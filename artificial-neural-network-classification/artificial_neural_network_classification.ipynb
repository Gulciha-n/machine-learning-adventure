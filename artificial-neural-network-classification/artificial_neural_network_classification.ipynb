{
  "nbformat": 4,
  "nbformat_minor": 0,
  "metadata": {
    "colab": {
      "provenance": []
    },
    "kernelspec": {
      "name": "python3",
      "display_name": "Python 3"
    },
    "language_info": {
      "name": "python"
    }
  },
  "cells": [
    {
      "cell_type": "code",
      "execution_count": 1,
      "metadata": {
        "colab": {
          "base_uri": "https://localhost:8080/"
        },
        "id": "XPqfYJaY1u0j",
        "outputId": "ee964345-bbbd-4d4a-cfe6-c3affc6b36c7"
      },
      "outputs": [
        {
          "output_type": "stream",
          "name": "stdout",
          "text": [
            "Mounted at /content/drive\n"
          ]
        }
      ],
      "source": [
        "from google.colab import drive\n",
        "drive.mount('/content/drive')"
      ]
    },
    {
      "cell_type": "code",
      "source": [
        "import pandas as pd\n",
        "import numpy as np\n",
        "import matplotlib.pyplot as plt\n",
        "import seaborn as sns\n",
        "import statsmodels.api as sm\n",
        "from sklearn.model_selection import train_test_split, GridSearchCV, cross_val_score\n",
        "from sklearn.linear_model import LinearRegression\n",
        "from sklearn.metrics import mean_squared_error, r2_score\n",
        "from sklearn.preprocessing import scale, StandardScaler\n",
        "from sklearn.metrics import confusion_matrix, accuracy_score, classification_report, roc_auc_score, roc_curve\n",
        "from sklearn.neighbors import KNeighborsClassifier\n",
        "from sklearn.svm import SVC\n",
        "from sklearn.ensemble import RandomForestClassifier\n",
        "from sklearn.tree import DecisionTreeRegressor\n",
        "from sklearn.ensemble import RandomForestRegressor\n",
        "from sklearn.ensemble import GradientBoostingClassifier\n",
        "from sklearn.linear_model import LogisticRegression\n",
        "from sklearn.neural_network import MLPRegressor\n",
        "from sklearn.neural_network import MLPClassifier"
      ],
      "metadata": {
        "id": "1-MGiTq11wlf"
      },
      "execution_count": 2,
      "outputs": []
    },
    {
      "cell_type": "code",
      "source": [
        "df = pd.read_csv(\"/content/drive/MyDrive/Colab Notebooks/ml/Diabetes.csv\")"
      ],
      "metadata": {
        "id": "Roiqqluu13zM"
      },
      "execution_count": 3,
      "outputs": []
    },
    {
      "cell_type": "code",
      "source": [
        "df.head()"
      ],
      "metadata": {
        "colab": {
          "base_uri": "https://localhost:8080/",
          "height": 206
        },
        "id": "SJm_X3VtzrWJ",
        "outputId": "457c2726-c553-46f8-c1bb-b69d26d5d9aa"
      },
      "execution_count": 4,
      "outputs": [
        {
          "output_type": "execute_result",
          "data": {
            "text/plain": [
              "   pregnancies  glucose  diastolic  triceps  insulin   bmi    dpf  age  \\\n",
              "0            6      148         72       35        0  33.6  0.627   50   \n",
              "1            1       85         66       29        0  26.6  0.351   31   \n",
              "2            8      183         64        0        0  23.3  0.672   32   \n",
              "3            1       89         66       23       94  28.1  0.167   21   \n",
              "4            0      137         40       35      168  43.1  2.288   33   \n",
              "\n",
              "   diabetes  \n",
              "0         1  \n",
              "1         0  \n",
              "2         1  \n",
              "3         0  \n",
              "4         1  "
            ],
            "text/html": [
              "\n",
              "  <div id=\"df-c29ff89a-f361-44f4-8179-1e0fef58bc14\" class=\"colab-df-container\">\n",
              "    <div>\n",
              "<style scoped>\n",
              "    .dataframe tbody tr th:only-of-type {\n",
              "        vertical-align: middle;\n",
              "    }\n",
              "\n",
              "    .dataframe tbody tr th {\n",
              "        vertical-align: top;\n",
              "    }\n",
              "\n",
              "    .dataframe thead th {\n",
              "        text-align: right;\n",
              "    }\n",
              "</style>\n",
              "<table border=\"1\" class=\"dataframe\">\n",
              "  <thead>\n",
              "    <tr style=\"text-align: right;\">\n",
              "      <th></th>\n",
              "      <th>pregnancies</th>\n",
              "      <th>glucose</th>\n",
              "      <th>diastolic</th>\n",
              "      <th>triceps</th>\n",
              "      <th>insulin</th>\n",
              "      <th>bmi</th>\n",
              "      <th>dpf</th>\n",
              "      <th>age</th>\n",
              "      <th>diabetes</th>\n",
              "    </tr>\n",
              "  </thead>\n",
              "  <tbody>\n",
              "    <tr>\n",
              "      <th>0</th>\n",
              "      <td>6</td>\n",
              "      <td>148</td>\n",
              "      <td>72</td>\n",
              "      <td>35</td>\n",
              "      <td>0</td>\n",
              "      <td>33.6</td>\n",
              "      <td>0.627</td>\n",
              "      <td>50</td>\n",
              "      <td>1</td>\n",
              "    </tr>\n",
              "    <tr>\n",
              "      <th>1</th>\n",
              "      <td>1</td>\n",
              "      <td>85</td>\n",
              "      <td>66</td>\n",
              "      <td>29</td>\n",
              "      <td>0</td>\n",
              "      <td>26.6</td>\n",
              "      <td>0.351</td>\n",
              "      <td>31</td>\n",
              "      <td>0</td>\n",
              "    </tr>\n",
              "    <tr>\n",
              "      <th>2</th>\n",
              "      <td>8</td>\n",
              "      <td>183</td>\n",
              "      <td>64</td>\n",
              "      <td>0</td>\n",
              "      <td>0</td>\n",
              "      <td>23.3</td>\n",
              "      <td>0.672</td>\n",
              "      <td>32</td>\n",
              "      <td>1</td>\n",
              "    </tr>\n",
              "    <tr>\n",
              "      <th>3</th>\n",
              "      <td>1</td>\n",
              "      <td>89</td>\n",
              "      <td>66</td>\n",
              "      <td>23</td>\n",
              "      <td>94</td>\n",
              "      <td>28.1</td>\n",
              "      <td>0.167</td>\n",
              "      <td>21</td>\n",
              "      <td>0</td>\n",
              "    </tr>\n",
              "    <tr>\n",
              "      <th>4</th>\n",
              "      <td>0</td>\n",
              "      <td>137</td>\n",
              "      <td>40</td>\n",
              "      <td>35</td>\n",
              "      <td>168</td>\n",
              "      <td>43.1</td>\n",
              "      <td>2.288</td>\n",
              "      <td>33</td>\n",
              "      <td>1</td>\n",
              "    </tr>\n",
              "  </tbody>\n",
              "</table>\n",
              "</div>\n",
              "    <div class=\"colab-df-buttons\">\n",
              "\n",
              "  <div class=\"colab-df-container\">\n",
              "    <button class=\"colab-df-convert\" onclick=\"convertToInteractive('df-c29ff89a-f361-44f4-8179-1e0fef58bc14')\"\n",
              "            title=\"Convert this dataframe to an interactive table.\"\n",
              "            style=\"display:none;\">\n",
              "\n",
              "  <svg xmlns=\"http://www.w3.org/2000/svg\" height=\"24px\" viewBox=\"0 -960 960 960\">\n",
              "    <path d=\"M120-120v-720h720v720H120Zm60-500h600v-160H180v160Zm220 220h160v-160H400v160Zm0 220h160v-160H400v160ZM180-400h160v-160H180v160Zm440 0h160v-160H620v160ZM180-180h160v-160H180v160Zm440 0h160v-160H620v160Z\"/>\n",
              "  </svg>\n",
              "    </button>\n",
              "\n",
              "  <style>\n",
              "    .colab-df-container {\n",
              "      display:flex;\n",
              "      gap: 12px;\n",
              "    }\n",
              "\n",
              "    .colab-df-convert {\n",
              "      background-color: #E8F0FE;\n",
              "      border: none;\n",
              "      border-radius: 50%;\n",
              "      cursor: pointer;\n",
              "      display: none;\n",
              "      fill: #1967D2;\n",
              "      height: 32px;\n",
              "      padding: 0 0 0 0;\n",
              "      width: 32px;\n",
              "    }\n",
              "\n",
              "    .colab-df-convert:hover {\n",
              "      background-color: #E2EBFA;\n",
              "      box-shadow: 0px 1px 2px rgba(60, 64, 67, 0.3), 0px 1px 3px 1px rgba(60, 64, 67, 0.15);\n",
              "      fill: #174EA6;\n",
              "    }\n",
              "\n",
              "    .colab-df-buttons div {\n",
              "      margin-bottom: 4px;\n",
              "    }\n",
              "\n",
              "    [theme=dark] .colab-df-convert {\n",
              "      background-color: #3B4455;\n",
              "      fill: #D2E3FC;\n",
              "    }\n",
              "\n",
              "    [theme=dark] .colab-df-convert:hover {\n",
              "      background-color: #434B5C;\n",
              "      box-shadow: 0px 1px 3px 1px rgba(0, 0, 0, 0.15);\n",
              "      filter: drop-shadow(0px 1px 2px rgba(0, 0, 0, 0.3));\n",
              "      fill: #FFFFFF;\n",
              "    }\n",
              "  </style>\n",
              "\n",
              "    <script>\n",
              "      const buttonEl =\n",
              "        document.querySelector('#df-c29ff89a-f361-44f4-8179-1e0fef58bc14 button.colab-df-convert');\n",
              "      buttonEl.style.display =\n",
              "        google.colab.kernel.accessAllowed ? 'block' : 'none';\n",
              "\n",
              "      async function convertToInteractive(key) {\n",
              "        const element = document.querySelector('#df-c29ff89a-f361-44f4-8179-1e0fef58bc14');\n",
              "        const dataTable =\n",
              "          await google.colab.kernel.invokeFunction('convertToInteractive',\n",
              "                                                    [key], {});\n",
              "        if (!dataTable) return;\n",
              "\n",
              "        const docLinkHtml = 'Like what you see? Visit the ' +\n",
              "          '<a target=\"_blank\" href=https://colab.research.google.com/notebooks/data_table.ipynb>data table notebook</a>'\n",
              "          + ' to learn more about interactive tables.';\n",
              "        element.innerHTML = '';\n",
              "        dataTable['output_type'] = 'display_data';\n",
              "        await google.colab.output.renderOutput(dataTable, element);\n",
              "        const docLink = document.createElement('div');\n",
              "        docLink.innerHTML = docLinkHtml;\n",
              "        element.appendChild(docLink);\n",
              "      }\n",
              "    </script>\n",
              "  </div>\n",
              "\n",
              "\n",
              "<div id=\"df-598a8d2e-8f37-42be-9071-94d437f1a5bc\">\n",
              "  <button class=\"colab-df-quickchart\" onclick=\"quickchart('df-598a8d2e-8f37-42be-9071-94d437f1a5bc')\"\n",
              "            title=\"Suggest charts\"\n",
              "            style=\"display:none;\">\n",
              "\n",
              "<svg xmlns=\"http://www.w3.org/2000/svg\" height=\"24px\"viewBox=\"0 0 24 24\"\n",
              "     width=\"24px\">\n",
              "    <g>\n",
              "        <path d=\"M19 3H5c-1.1 0-2 .9-2 2v14c0 1.1.9 2 2 2h14c1.1 0 2-.9 2-2V5c0-1.1-.9-2-2-2zM9 17H7v-7h2v7zm4 0h-2V7h2v10zm4 0h-2v-4h2v4z\"/>\n",
              "    </g>\n",
              "</svg>\n",
              "  </button>\n",
              "\n",
              "<style>\n",
              "  .colab-df-quickchart {\n",
              "      --bg-color: #E8F0FE;\n",
              "      --fill-color: #1967D2;\n",
              "      --hover-bg-color: #E2EBFA;\n",
              "      --hover-fill-color: #174EA6;\n",
              "      --disabled-fill-color: #AAA;\n",
              "      --disabled-bg-color: #DDD;\n",
              "  }\n",
              "\n",
              "  [theme=dark] .colab-df-quickchart {\n",
              "      --bg-color: #3B4455;\n",
              "      --fill-color: #D2E3FC;\n",
              "      --hover-bg-color: #434B5C;\n",
              "      --hover-fill-color: #FFFFFF;\n",
              "      --disabled-bg-color: #3B4455;\n",
              "      --disabled-fill-color: #666;\n",
              "  }\n",
              "\n",
              "  .colab-df-quickchart {\n",
              "    background-color: var(--bg-color);\n",
              "    border: none;\n",
              "    border-radius: 50%;\n",
              "    cursor: pointer;\n",
              "    display: none;\n",
              "    fill: var(--fill-color);\n",
              "    height: 32px;\n",
              "    padding: 0;\n",
              "    width: 32px;\n",
              "  }\n",
              "\n",
              "  .colab-df-quickchart:hover {\n",
              "    background-color: var(--hover-bg-color);\n",
              "    box-shadow: 0 1px 2px rgba(60, 64, 67, 0.3), 0 1px 3px 1px rgba(60, 64, 67, 0.15);\n",
              "    fill: var(--button-hover-fill-color);\n",
              "  }\n",
              "\n",
              "  .colab-df-quickchart-complete:disabled,\n",
              "  .colab-df-quickchart-complete:disabled:hover {\n",
              "    background-color: var(--disabled-bg-color);\n",
              "    fill: var(--disabled-fill-color);\n",
              "    box-shadow: none;\n",
              "  }\n",
              "\n",
              "  .colab-df-spinner {\n",
              "    border: 2px solid var(--fill-color);\n",
              "    border-color: transparent;\n",
              "    border-bottom-color: var(--fill-color);\n",
              "    animation:\n",
              "      spin 1s steps(1) infinite;\n",
              "  }\n",
              "\n",
              "  @keyframes spin {\n",
              "    0% {\n",
              "      border-color: transparent;\n",
              "      border-bottom-color: var(--fill-color);\n",
              "      border-left-color: var(--fill-color);\n",
              "    }\n",
              "    20% {\n",
              "      border-color: transparent;\n",
              "      border-left-color: var(--fill-color);\n",
              "      border-top-color: var(--fill-color);\n",
              "    }\n",
              "    30% {\n",
              "      border-color: transparent;\n",
              "      border-left-color: var(--fill-color);\n",
              "      border-top-color: var(--fill-color);\n",
              "      border-right-color: var(--fill-color);\n",
              "    }\n",
              "    40% {\n",
              "      border-color: transparent;\n",
              "      border-right-color: var(--fill-color);\n",
              "      border-top-color: var(--fill-color);\n",
              "    }\n",
              "    60% {\n",
              "      border-color: transparent;\n",
              "      border-right-color: var(--fill-color);\n",
              "    }\n",
              "    80% {\n",
              "      border-color: transparent;\n",
              "      border-right-color: var(--fill-color);\n",
              "      border-bottom-color: var(--fill-color);\n",
              "    }\n",
              "    90% {\n",
              "      border-color: transparent;\n",
              "      border-bottom-color: var(--fill-color);\n",
              "    }\n",
              "  }\n",
              "</style>\n",
              "\n",
              "  <script>\n",
              "    async function quickchart(key) {\n",
              "      const quickchartButtonEl =\n",
              "        document.querySelector('#' + key + ' button');\n",
              "      quickchartButtonEl.disabled = true;  // To prevent multiple clicks.\n",
              "      quickchartButtonEl.classList.add('colab-df-spinner');\n",
              "      try {\n",
              "        const charts = await google.colab.kernel.invokeFunction(\n",
              "            'suggestCharts', [key], {});\n",
              "      } catch (error) {\n",
              "        console.error('Error during call to suggestCharts:', error);\n",
              "      }\n",
              "      quickchartButtonEl.classList.remove('colab-df-spinner');\n",
              "      quickchartButtonEl.classList.add('colab-df-quickchart-complete');\n",
              "    }\n",
              "    (() => {\n",
              "      let quickchartButtonEl =\n",
              "        document.querySelector('#df-598a8d2e-8f37-42be-9071-94d437f1a5bc button');\n",
              "      quickchartButtonEl.style.display =\n",
              "        google.colab.kernel.accessAllowed ? 'block' : 'none';\n",
              "    })();\n",
              "  </script>\n",
              "</div>\n",
              "\n",
              "    </div>\n",
              "  </div>\n"
            ],
            "application/vnd.google.colaboratory.intrinsic+json": {
              "type": "dataframe",
              "variable_name": "df",
              "summary": "{\n  \"name\": \"df\",\n  \"rows\": 768,\n  \"fields\": [\n    {\n      \"column\": \"pregnancies\",\n      \"properties\": {\n        \"dtype\": \"number\",\n        \"std\": 3,\n        \"min\": 0,\n        \"max\": 17,\n        \"num_unique_values\": 17,\n        \"samples\": [\n          6,\n          1,\n          3\n        ],\n        \"semantic_type\": \"\",\n        \"description\": \"\"\n      }\n    },\n    {\n      \"column\": \"glucose\",\n      \"properties\": {\n        \"dtype\": \"number\",\n        \"std\": 31,\n        \"min\": 0,\n        \"max\": 199,\n        \"num_unique_values\": 136,\n        \"samples\": [\n          151,\n          101,\n          112\n        ],\n        \"semantic_type\": \"\",\n        \"description\": \"\"\n      }\n    },\n    {\n      \"column\": \"diastolic\",\n      \"properties\": {\n        \"dtype\": \"number\",\n        \"std\": 19,\n        \"min\": 0,\n        \"max\": 122,\n        \"num_unique_values\": 47,\n        \"samples\": [\n          86,\n          46,\n          85\n        ],\n        \"semantic_type\": \"\",\n        \"description\": \"\"\n      }\n    },\n    {\n      \"column\": \"triceps\",\n      \"properties\": {\n        \"dtype\": \"number\",\n        \"std\": 15,\n        \"min\": 0,\n        \"max\": 99,\n        \"num_unique_values\": 51,\n        \"samples\": [\n          7,\n          12,\n          48\n        ],\n        \"semantic_type\": \"\",\n        \"description\": \"\"\n      }\n    },\n    {\n      \"column\": \"insulin\",\n      \"properties\": {\n        \"dtype\": \"number\",\n        \"std\": 115,\n        \"min\": 0,\n        \"max\": 846,\n        \"num_unique_values\": 186,\n        \"samples\": [\n          52,\n          41,\n          183\n        ],\n        \"semantic_type\": \"\",\n        \"description\": \"\"\n      }\n    },\n    {\n      \"column\": \"bmi\",\n      \"properties\": {\n        \"dtype\": \"number\",\n        \"std\": 7.8841603203754405,\n        \"min\": 0.0,\n        \"max\": 67.1,\n        \"num_unique_values\": 248,\n        \"samples\": [\n          19.9,\n          31.0,\n          38.1\n        ],\n        \"semantic_type\": \"\",\n        \"description\": \"\"\n      }\n    },\n    {\n      \"column\": \"dpf\",\n      \"properties\": {\n        \"dtype\": \"number\",\n        \"std\": 0.33132859501277484,\n        \"min\": 0.078,\n        \"max\": 2.42,\n        \"num_unique_values\": 517,\n        \"samples\": [\n          1.731,\n          0.426,\n          0.138\n        ],\n        \"semantic_type\": \"\",\n        \"description\": \"\"\n      }\n    },\n    {\n      \"column\": \"age\",\n      \"properties\": {\n        \"dtype\": \"number\",\n        \"std\": 11,\n        \"min\": 21,\n        \"max\": 81,\n        \"num_unique_values\": 52,\n        \"samples\": [\n          60,\n          47,\n          72\n        ],\n        \"semantic_type\": \"\",\n        \"description\": \"\"\n      }\n    },\n    {\n      \"column\": \"diabetes\",\n      \"properties\": {\n        \"dtype\": \"number\",\n        \"std\": 0,\n        \"min\": 0,\n        \"max\": 1,\n        \"num_unique_values\": 2,\n        \"samples\": [\n          0,\n          1\n        ],\n        \"semantic_type\": \"\",\n        \"description\": \"\"\n      }\n    }\n  ]\n}"
            }
          },
          "metadata": {},
          "execution_count": 4
        }
      ]
    },
    {
      "cell_type": "code",
      "source": [
        "X = df.drop(\"diabetes\", axis=1)\n",
        "y = df[\"diabetes\"]"
      ],
      "metadata": {
        "id": "ME-UrCa2z4TK"
      },
      "execution_count": 23,
      "outputs": []
    },
    {
      "cell_type": "code",
      "source": [
        "X_train, X_test, y_train, y_test = train_test_split(X ,y , test_size=0.2, random_state=42)"
      ],
      "metadata": {
        "id": "p6BOxrrYzwW7"
      },
      "execution_count": 24,
      "outputs": []
    },
    {
      "cell_type": "markdown",
      "source": [
        "# **Standardization**\n",
        "\n",
        "**fit(X_train): Bu adımda, model verinin istatistiklerini (örneğin, ortalama ve standart sapma gibi) öğrenir. StandardScaler kullanırken, veriyi standartlaştırmak için verinin her bir özelliğinin ortalaması ve standart sapması hesaplanır.**\n",
        "\n",
        "**transform(X_train): transform işlemi, fit ile öğrenilen bu istatistikleri kullanarak veriyi standartlaştırır. Yani her bir özelliği ortalamasından çıkarır ve standart sapmasına böler.**\n",
        "\n",
        "**fit: Verinin nasıl dönüştürüleceğini öğrenir (istatistikleri hesaplar).**\n",
        "\n",
        "**transform: Öğrenilen bu bilgileri kullanarak veriyi dönüştürür.**"
      ],
      "metadata": {
        "id": "iBpfnvJr7cLA"
      }
    },
    {
      "cell_type": "code",
      "source": [
        "scaler = StandardScaler()"
      ],
      "metadata": {
        "id": "xh9mU1_R7bem"
      },
      "execution_count": 25,
      "outputs": []
    },
    {
      "cell_type": "code",
      "source": [
        "scaler.fit(X_train)\n",
        "X_train = scaler.transform(X_train)"
      ],
      "metadata": {
        "id": "8o1f3zC1725L"
      },
      "execution_count": 8,
      "outputs": []
    },
    {
      "cell_type": "code",
      "source": [
        "scaler.fit(X_test)\n",
        "X_test = scaler.transform(X_test)"
      ],
      "metadata": {
        "id": "Mhl_Pt4n7-pz"
      },
      "execution_count": 26,
      "outputs": []
    },
    {
      "cell_type": "markdown",
      "source": [
        "# **Multi-layer Perceptron Classification Model**"
      ],
      "metadata": {
        "id": "byk7fDydziVg"
      }
    },
    {
      "cell_type": "code",
      "source": [
        "mlpc_model = MLPClassifier().fit(X_train, y_train)"
      ],
      "metadata": {
        "id": "mno0y3E_zmBH"
      },
      "execution_count": 27,
      "outputs": []
    },
    {
      "cell_type": "code",
      "source": [
        "mlpc_model.coefs_"
      ],
      "metadata": {
        "colab": {
          "base_uri": "https://localhost:8080/"
        },
        "collapsed": true,
        "id": "R6ZqeJle0bXH",
        "outputId": "59512ba3-26c1-4589-dc13-017177e7511c"
      },
      "execution_count": 28,
      "outputs": [
        {
          "output_type": "execute_result",
          "data": {
            "text/plain": [
              "[array([[-2.20475412e-01,  2.09788473e-07, -1.06040632e-01,\n",
              "          2.83231310e-02,  5.32117511e-02,  8.47687391e-02,\n",
              "         -6.07096491e-02, -1.25376074e-01,  3.42669593e-03,\n",
              "          1.82450105e-02, -1.23385983e-01,  5.06296461e-02,\n",
              "         -2.26278666e-10, -1.70444576e-01,  2.40054141e-02,\n",
              "          2.23431820e-01,  6.48842946e-02,  1.55984040e-01,\n",
              "         -1.77889094e-01,  9.51990487e-02,  1.22699998e-02,\n",
              "         -2.79473729e-04, -2.70466024e-01,  3.37307968e-02,\n",
              "          1.96566002e-09, -1.57669544e-01, -1.60282148e-01,\n",
              "          2.87505691e-01,  4.74083099e-02, -1.34454751e-01,\n",
              "          1.68218343e-01,  2.00963639e-01, -8.74040615e-02,\n",
              "          2.42829342e-02, -5.33028046e-02, -1.92512806e-01,\n",
              "          8.33866263e-02, -7.32816758e-03,  8.77661601e-11,\n",
              "          7.14855112e-02, -4.60418791e-02, -7.76221508e-02,\n",
              "         -2.87280153e-02,  1.77668517e-01,  5.59116126e-03,\n",
              "         -4.27903074e-02,  1.20070433e-01,  2.02131872e-01,\n",
              "          4.24411250e-02, -1.08222235e-01, -1.46917870e-01,\n",
              "         -6.19708328e-02,  3.11740371e-01,  2.39735438e-02,\n",
              "         -9.99785665e-02,  1.91161669e-01,  2.66767200e-10,\n",
              "          1.20858377e-02, -4.90977433e-09,  2.39618340e-02,\n",
              "          2.05931288e-01,  2.82993673e-01,  9.14038408e-02,\n",
              "         -8.09219325e-02,  1.52509896e-01, -1.31952286e-01,\n",
              "         -1.73658303e-01, -2.48604921e-02,  1.79055841e-03,\n",
              "          1.04928060e-01,  1.73042683e-01, -1.49306961e-01,\n",
              "          1.52178041e-01, -2.09766546e-01, -1.03872734e-01,\n",
              "          5.56170758e-02,  6.29272051e-02, -6.60066923e-02,\n",
              "          1.49038324e-01,  1.51145752e-02, -2.55010565e-02,\n",
              "          3.24675111e-02, -1.68761776e-01,  5.72091980e-02,\n",
              "         -7.51414487e-02, -1.17874079e-01,  1.00995297e-01,\n",
              "          2.14297579e-01, -2.33907014e-09, -1.86648858e-01,\n",
              "          5.66404187e-02,  1.04896150e-01,  1.54492198e-01,\n",
              "         -5.32094970e-02, -8.68126468e-02, -2.16808431e-01,\n",
              "         -1.08932534e-01, -3.55567971e-02, -1.75830658e-02,\n",
              "         -1.07623605e-01],\n",
              "        [-6.86055703e-02, -9.92897351e-04, -1.72733866e-01,\n",
              "         -7.66067627e-02,  1.37508424e-01,  1.62058419e-01,\n",
              "          8.43619381e-02, -2.31260091e-01,  9.94628793e-02,\n",
              "         -1.76753468e-01, -1.17606672e-01,  2.15150923e-01,\n",
              "         -2.00984249e-07,  9.08619661e-03,  2.15852583e-01,\n",
              "          1.16409585e-01,  1.48236718e-01, -9.19239271e-02,\n",
              "          1.38699525e-01,  1.55989956e-01,  1.20392572e-01,\n",
              "         -4.16575281e-02, -1.24313473e-01,  1.19105343e-01,\n",
              "         -4.56268884e-02, -2.29682560e-02, -1.67499981e-01,\n",
              "         -1.23015201e-01,  6.72008562e-02,  2.68348783e-02,\n",
              "         -5.49557377e-02,  1.84810385e-01, -1.18649209e-01,\n",
              "         -3.77409579e-02,  2.36176495e-02,  3.10012703e-02,\n",
              "          1.97798038e-01, -5.82686000e-02,  8.85693543e-11,\n",
              "          2.33700298e-01, -3.59587165e-02, -7.64546113e-02,\n",
              "          5.29076792e-02,  2.46879455e-01,  1.77927986e-01,\n",
              "         -4.69953158e-02, -7.53640088e-02, -1.57752186e-01,\n",
              "          3.46502701e-02,  8.63977116e-02,  1.03939137e-01,\n",
              "          1.89783242e-01, -2.83760917e-01, -1.17711714e-01,\n",
              "          1.73906188e-02,  2.17859667e-02, -9.66669765e-03,\n",
              "         -1.57802314e-01, -1.12375478e-09, -2.04432681e-01,\n",
              "         -7.64418766e-02, -2.19090263e-01, -1.49429496e-01,\n",
              "          1.34596524e-02,  1.01593078e-01,  2.44973966e-01,\n",
              "          1.60847177e-01, -1.97824197e-01, -5.23516642e-02,\n",
              "          9.08558973e-02, -5.90290427e-02,  1.73893503e-01,\n",
              "         -9.35662269e-02,  1.26975582e-01, -9.35794693e-02,\n",
              "          2.06420196e-01, -2.50304068e-01, -1.12999009e-01,\n",
              "          3.47849217e-02,  4.31918343e-02, -9.75312001e-02,\n",
              "          2.47013899e-01, -4.11712632e-03, -1.27305666e-01,\n",
              "         -7.78934915e-02, -9.33864015e-02, -2.68064032e-02,\n",
              "         -1.25830796e-01, -6.22445490e-02,  6.20444324e-02,\n",
              "          5.86963116e-03,  6.28317723e-02,  4.79855534e-02,\n",
              "          8.07389914e-02,  1.39980249e-01,  1.28374459e-01,\n",
              "         -4.84111391e-02, -6.18896287e-02,  1.90776364e-01,\n",
              "          1.31010901e-01],\n",
              "        [-1.37775982e-01,  2.60759553e-09,  7.67839920e-02,\n",
              "         -6.27069995e-02,  1.59355590e-02, -1.72532203e-01,\n",
              "         -2.17703506e-01, -2.20062515e-01, -3.18472180e-02,\n",
              "          6.59214511e-02, -1.29715686e-01,  1.74552807e-01,\n",
              "         -5.90478100e-06, -1.04449015e-01, -1.72611756e-01,\n",
              "          1.00396015e-01, -1.42125866e-02, -9.65015619e-03,\n",
              "         -1.14943299e-01, -1.17794224e-01, -2.18002457e-01,\n",
              "         -6.18259370e-02,  1.47922717e-01,  1.13176189e-01,\n",
              "          1.60661550e-03,  2.17719600e-01,  3.21092224e-02,\n",
              "          1.28562597e-01,  2.36780175e-01, -9.78263016e-02,\n",
              "          1.19152696e-01, -2.72686024e-02,  8.27799830e-03,\n",
              "         -2.10747641e-01, -2.29170403e-01,  8.81601805e-02,\n",
              "          1.42879954e-01, -5.08941515e-05, -3.66078732e-02,\n",
              "          2.08633553e-01, -3.72356890e-02, -3.50356771e-02,\n",
              "          2.18699273e-01, -2.19140376e-01, -8.54091358e-02,\n",
              "          5.17041939e-02, -1.45827156e-01,  1.03377727e-01,\n",
              "         -8.21678589e-02, -1.40768546e-01, -1.80010994e-01,\n",
              "          1.66723893e-01,  2.24863330e-01, -1.72375604e-01,\n",
              "         -1.17820158e-01,  3.60574901e-02, -6.68132776e-04,\n",
              "         -3.76540273e-02,  2.16524633e-07,  6.95504458e-02,\n",
              "         -7.04523110e-03, -1.89631879e-03, -3.56804854e-02,\n",
              "         -2.66963015e-02,  8.88061039e-02,  1.57913192e-01,\n",
              "          5.46575563e-02,  1.60468996e-01, -1.01274773e-09,\n",
              "          2.14787045e-01,  2.25505752e-01,  4.18010826e-02,\n",
              "          1.27071739e-01, -3.27018281e-02,  3.73930828e-02,\n",
              "         -1.78157843e-01,  1.14507072e-01,  1.57290186e-01,\n",
              "         -4.83877704e-02, -2.25377608e-01, -1.66668357e-01,\n",
              "         -1.56055891e-01, -1.02154644e-01,  1.63501728e-01,\n",
              "         -6.58806817e-02,  1.39974740e-02,  1.53588416e-01,\n",
              "          1.14442482e-01,  6.09366189e-03, -4.24555962e-02,\n",
              "         -1.24186467e-01, -6.56340857e-02, -2.33021188e-01,\n",
              "          1.20334796e-01,  1.66851173e-01,  2.25881766e-01,\n",
              "         -1.23999160e-01, -1.07905574e-01,  1.70870259e-01,\n",
              "          1.01945170e-01],\n",
              "        [ 2.10069495e-02, -1.16387234e-03, -2.27575273e-01,\n",
              "          2.67110378e-06,  1.24427972e-01,  1.47141624e-01,\n",
              "         -8.27369110e-02,  8.54852077e-02,  1.35657321e-01,\n",
              "          1.59318535e-01, -1.43479384e-01,  6.30817254e-02,\n",
              "         -4.17217801e-02, -1.36017418e-01,  1.62400905e-01,\n",
              "          5.85866173e-02,  2.04408439e-01,  1.68687227e-01,\n",
              "         -7.20408381e-02,  1.77026525e-01,  1.39963118e-01,\n",
              "          2.77997244e-03, -2.35530876e-01,  3.05539418e-02,\n",
              "         -6.35935659e-05, -2.23668075e-01, -1.82581904e-01,\n",
              "          2.58790741e-01,  7.70446022e-02,  2.33340766e-02,\n",
              "         -2.18266211e-01,  5.34439791e-02, -7.29357276e-02,\n",
              "          1.35887007e-01,  4.26366055e-02,  3.95878722e-02,\n",
              "         -2.40755134e-01,  1.57521077e-01,  3.12546982e-03,\n",
              "          4.06698530e-02,  2.88375954e-02,  1.23281496e-01,\n",
              "          2.24639358e-01,  1.89133362e-01,  1.96909757e-01,\n",
              "         -1.65748672e-01,  1.83886330e-01, -7.95306586e-02,\n",
              "         -2.10048027e-01, -1.09318629e-03, -7.09350362e-03,\n",
              "          7.80224475e-02, -1.49507457e-01, -2.67164228e-02,\n",
              "          1.85176582e-01, -1.14523219e-01, -4.82686031e-03,\n",
              "          2.95433847e-01, -1.42747877e-05,  1.59673638e-01,\n",
              "         -1.90058603e-01,  2.80457952e-01, -1.52587518e-01,\n",
              "          2.83684425e-02,  1.48121773e-01,  1.81578733e-01,\n",
              "          1.54093910e-01,  5.64330694e-03,  6.44849961e-03,\n",
              "         -4.26335073e-03, -1.93588357e-01, -5.81938983e-02,\n",
              "         -2.64904293e-01,  2.08387041e-01,  6.08588181e-02,\n",
              "          1.64687522e-01, -4.20190290e-02, -7.13633218e-02,\n",
              "         -7.93990456e-02, -5.30797096e-02,  1.70027964e-01,\n",
              "         -1.50647187e-01,  1.66578274e-01, -1.15413319e-02,\n",
              "         -7.19540068e-02,  1.04270113e-01,  2.10154604e-01,\n",
              "         -1.65424371e-01, -4.35802975e-02, -4.13765842e-02,\n",
              "          1.77066057e-01,  1.72236125e-01, -1.34006737e-01,\n",
              "          9.82424952e-02,  3.57505860e-02,  2.25142037e-01,\n",
              "         -2.38911170e-01,  1.92787257e-01, -1.95816499e-01,\n",
              "         -6.80577883e-03],\n",
              "        [ 2.68027738e-02, -7.32898132e-03,  2.34221473e-01,\n",
              "         -5.72109979e-02, -9.86880226e-02,  2.06690078e-01,\n",
              "          5.64142680e-02,  1.87949444e-01, -2.37667238e-01,\n",
              "         -1.46627443e-02,  8.80264286e-02,  2.10837023e-01,\n",
              "         -5.48316693e-02, -3.15656440e-02, -1.22624769e-01,\n",
              "         -1.04397962e-01,  1.49975347e-01,  1.29173255e-01,\n",
              "         -1.88641467e-01, -9.10672365e-02,  1.02088108e-01,\n",
              "         -1.89278384e-11, -1.76161055e-02,  1.60073931e-01,\n",
              "          1.37764127e-07, -1.46431604e-01,  1.96840697e-01,\n",
              "         -1.36543462e-01,  1.70465810e-01, -6.26656595e-03,\n",
              "         -7.46648516e-02,  1.09526713e-01,  1.04559108e-01,\n",
              "          1.07651667e-01,  1.02311186e-01, -2.14824289e-01,\n",
              "         -2.23933675e-01,  2.24842037e-01, -7.29627115e-02,\n",
              "          2.40619837e-01, -3.99038456e-05,  1.10484626e-01,\n",
              "          5.03552958e-02,  3.76605460e-02,  1.66691372e-01,\n",
              "         -1.70864735e-01, -9.36717392e-03,  8.98684339e-02,\n",
              "          2.05244840e-01,  4.51089132e-02,  6.54749979e-02,\n",
              "          1.09898632e-01, -1.65024357e-01, -9.10376333e-10,\n",
              "          1.55106764e-01,  1.82012394e-01, -7.17361277e-08,\n",
              "         -2.15272127e-01,  8.90427056e-10,  1.28457193e-01,\n",
              "          3.03981784e-02, -2.58617565e-01,  3.23346768e-02,\n",
              "          2.16230714e-01, -1.49072432e-01, -1.74915692e-02,\n",
              "          3.23305556e-02,  2.22999026e-01,  1.68331378e-09,\n",
              "          2.36664550e-02, -1.31143151e-01, -1.18242528e-01,\n",
              "         -7.57819733e-03, -3.90487169e-02,  1.69082820e-01,\n",
              "         -1.81328990e-01,  1.16154693e-01,  1.17343942e-01,\n",
              "         -2.28092895e-02,  4.27128995e-02,  1.55009842e-01,\n",
              "          2.22433946e-01,  1.02975995e-01,  3.08051076e-02,\n",
              "         -6.24184141e-03,  1.20667808e-01,  2.11891587e-01,\n",
              "          2.08882040e-01, -1.10972257e-02, -2.77809257e-01,\n",
              "         -1.60186498e-01, -6.04732705e-02, -1.19277645e-01,\n",
              "          1.35341407e-01, -1.48019047e-01,  2.22407208e-01,\n",
              "          7.52754116e-02,  1.30242067e-01,  1.63292391e-01,\n",
              "          1.23176690e-01],\n",
              "        [ 1.51287995e-02, -7.67903944e-02,  1.45509937e-01,\n",
              "         -1.80666040e-03, -4.63910380e-02,  7.79074833e-02,\n",
              "         -5.81821985e-02,  5.34576574e-02,  1.44245302e-01,\n",
              "          1.52944912e-01,  1.64530448e-01,  8.89512518e-02,\n",
              "          2.28374679e-10,  4.95457485e-02, -1.36113460e-01,\n",
              "         -9.44150285e-02, -1.06379900e-01, -1.67958573e-01,\n",
              "          2.40710654e-02, -5.79323361e-02, -3.85001916e-02,\n",
              "          2.23652472e-07, -1.07082346e-01,  1.21599828e-01,\n",
              "         -6.36486885e-02,  7.36731815e-02, -2.10147088e-01,\n",
              "         -6.42877133e-02, -1.62503790e-01, -1.54271923e-01,\n",
              "          1.74697545e-01,  8.55685393e-02,  2.26981906e-02,\n",
              "         -1.63870395e-01, -1.24921814e-01,  1.07398367e-01,\n",
              "          1.76323440e-01, -1.29916727e-01, -2.24242335e-02,\n",
              "         -2.28786083e-01, -5.39206182e-02,  2.22672834e-01,\n",
              "          2.03688851e-01, -1.92051063e-01,  4.33967493e-02,\n",
              "          1.11746157e-01,  6.42598403e-02,  9.13574874e-02,\n",
              "         -7.61901202e-02, -4.18011908e-02,  1.37700871e-01,\n",
              "         -1.95718074e-01, -1.01228219e-03,  7.11482078e-02,\n",
              "         -1.82301424e-01, -7.35994879e-02,  7.59010909e-10,\n",
              "          9.37940388e-02, -5.41550286e-02,  1.61096498e-01,\n",
              "         -8.47363062e-02,  2.91674080e-01, -1.17446403e-01,\n",
              "         -7.44271196e-02,  5.55469208e-02, -7.35999969e-02,\n",
              "          1.96582654e-01,  1.66923169e-01, -4.49357965e-03,\n",
              "         -1.36599134e-01,  6.43224437e-02,  1.78451713e-01,\n",
              "          1.97766694e-01,  3.52318250e-03,  7.12904783e-02,\n",
              "         -5.02753150e-02,  4.88732242e-02, -1.97338533e-01,\n",
              "          1.03493021e-01, -8.71627286e-02,  1.32865078e-01,\n",
              "         -2.15354765e-01,  6.79752152e-02,  1.97029315e-01,\n",
              "         -6.03976869e-04, -3.60009598e-02,  1.78127534e-01,\n",
              "          6.67112322e-02, -1.52403971e-04, -5.78198547e-02,\n",
              "          1.43715029e-02,  4.37943248e-02,  1.27743443e-01,\n",
              "         -1.99151025e-01, -1.80047768e-01,  1.62038636e-01,\n",
              "         -5.47966326e-02, -1.70642268e-01,  2.05269369e-01,\n",
              "         -2.27392920e-01],\n",
              "        [-1.49544759e-01,  2.30531358e-02, -5.64748589e-02,\n",
              "         -6.08186595e-09, -8.12090883e-02,  1.16700391e-01,\n",
              "          4.03303710e-02,  9.07126051e-02, -5.79759314e-03,\n",
              "         -6.73104466e-02,  1.82080663e-01, -2.22119652e-01,\n",
              "         -7.57545670e-02,  1.21319933e-01,  1.19092602e-02,\n",
              "         -1.75047408e-01,  1.99719832e-01, -1.65986007e-01,\n",
              "         -2.15090957e-01,  9.15614659e-02,  1.44693903e-01,\n",
              "         -3.04413974e-02, -1.66490337e-01, -1.82503551e-01,\n",
              "         -4.25599393e-02, -3.81746114e-02,  1.83049940e-01,\n",
              "          1.27910719e-01, -7.60360485e-02, -7.43999105e-02,\n",
              "          1.09361593e-01,  7.22348784e-02,  1.28042467e-02,\n",
              "          1.19483612e-01,  1.71313686e-01, -3.72987051e-02,\n",
              "         -4.42852532e-02,  3.29497187e-02,  5.13000416e-03,\n",
              "         -1.53930688e-01, -8.18476013e-03, -2.05141636e-01,\n",
              "         -1.97089527e-01,  1.08338857e-01,  8.52873745e-02,\n",
              "         -2.08883829e-01,  1.33358989e-01, -1.98808014e-01,\n",
              "          1.65091024e-01, -1.68225739e-01, -1.37732187e-01,\n",
              "         -2.37879986e-02, -6.41536950e-02, -2.09352383e-01,\n",
              "         -1.07761755e-01, -1.23436610e-02,  1.16272386e-07,\n",
              "          2.01890736e-01,  1.63201813e-02, -7.32597377e-02,\n",
              "         -2.31518676e-01, -3.40500527e-02,  6.88977089e-02,\n",
              "          5.23950040e-02, -2.36807710e-01,  8.15078109e-02,\n",
              "         -1.49352083e-01, -8.90705620e-02, -5.47414988e-02,\n",
              "         -2.32605626e-01, -5.33685700e-02, -1.30257800e-01,\n",
              "          1.50298963e-01,  1.24249008e-01,  8.48063963e-02,\n",
              "          2.97119534e-02, -2.09514008e-02,  1.08335480e-01,\n",
              "         -1.84597401e-01,  1.97711315e-01,  4.04655394e-02,\n",
              "         -9.50292023e-02, -1.05675480e-01, -6.86331228e-02,\n",
              "         -6.03970104e-03, -6.02077817e-02,  2.24357990e-01,\n",
              "         -2.54305149e-02,  5.47917585e-03,  2.49054312e-01,\n",
              "         -6.18904970e-03,  1.82902604e-01,  1.35788272e-01,\n",
              "         -1.40510662e-01, -1.97680319e-01,  1.41265529e-01,\n",
              "          1.55882608e-02, -1.56280625e-01, -1.07763167e-01,\n",
              "         -9.18067407e-02],\n",
              "        [ 3.76410199e-02, -1.75105579e-08, -4.14368642e-02,\n",
              "         -2.13489677e-07, -1.81678523e-01, -2.79696039e-02,\n",
              "          1.50243671e-01,  3.32131637e-03, -9.79169582e-02,\n",
              "         -1.45833547e-02,  7.57319487e-02, -1.20676764e-01,\n",
              "         -5.14433088e-02, -4.77595564e-02,  6.90192440e-03,\n",
              "         -8.64183121e-02,  1.88609425e-01, -1.91392860e-01,\n",
              "          1.48919325e-01, -1.76535655e-02,  1.95769678e-01,\n",
              "          4.28882565e-03,  5.39441386e-02,  6.48729964e-02,\n",
              "         -5.36668293e-04,  2.57929779e-01, -4.55337569e-02,\n",
              "         -1.33222165e-01,  2.34290982e-01,  1.86044306e-01,\n",
              "          1.07428600e-01,  1.31499972e-01, -8.75760688e-02,\n",
              "          7.59760304e-02,  1.01133592e-01, -1.46092437e-01,\n",
              "          1.15848305e-01, -2.07280616e-01, -1.86071641e-02,\n",
              "         -1.23440988e-01,  2.60294368e-02, -5.69152884e-02,\n",
              "          7.10735931e-02, -1.70628663e-01, -1.68684788e-01,\n",
              "         -4.86898674e-02, -6.19360578e-02,  1.82861740e-01,\n",
              "          7.76422070e-02, -4.98016889e-02, -1.52761520e-01,\n",
              "          9.23370182e-03, -8.20248156e-02,  1.69470575e-01,\n",
              "         -6.16712750e-02, -1.00699511e-01, -8.22472240e-02,\n",
              "          1.75357456e-01, -4.02340363e-02,  9.25027435e-02,\n",
              "          1.01459799e-01,  8.95736364e-02,  1.45272097e-01,\n",
              "          1.19215959e-01, -1.89242911e-01, -7.61661131e-02,\n",
              "         -1.50105310e-01,  1.67003793e-02, -2.89398648e-02,\n",
              "         -1.25082145e-02, -7.47372966e-02, -3.17198912e-03,\n",
              "         -1.12526599e-01,  1.33897837e-01, -4.43478112e-02,\n",
              "          1.35219432e-01, -3.64793217e-02, -1.05626715e-01,\n",
              "         -1.87275586e-01,  2.11368226e-01,  1.07601449e-01,\n",
              "          3.28428529e-03, -1.55840567e-01,  4.43894478e-02,\n",
              "         -1.50871856e-03, -8.08732631e-02, -1.69900437e-01,\n",
              "          1.97017293e-01, -1.15314040e-02,  8.07821021e-02,\n",
              "          3.70293445e-02, -1.67784294e-01,  1.07214720e-01,\n",
              "          1.42865609e-01,  8.43717414e-02, -1.69301696e-02,\n",
              "          3.31293342e-02, -2.04477435e-01,  2.14984995e-01,\n",
              "          5.87291328e-02]]),\n",
              " array([[ 1.28353436e-01],\n",
              "        [-2.28360323e-02],\n",
              "        [-1.37519810e-01],\n",
              "        [-7.99081558e-09],\n",
              "        [ 1.81773910e-01],\n",
              "        [ 2.17798380e-01],\n",
              "        [-1.37750648e-01],\n",
              "        [-1.13444108e-01],\n",
              "        [ 8.43515173e-02],\n",
              "        [-1.73474164e-01],\n",
              "        [-1.31013963e-02],\n",
              "        [ 1.58059192e-01],\n",
              "        [-1.08101689e-04],\n",
              "        [ 1.73732300e-01],\n",
              "        [-1.17675047e-01],\n",
              "        [-1.66111288e-01],\n",
              "        [-8.80788486e-02],\n",
              "        [ 7.34265937e-02],\n",
              "        [ 4.65104207e-02],\n",
              "        [ 3.14031503e-03],\n",
              "        [ 1.13446423e-01],\n",
              "        [-8.15836500e-02],\n",
              "        [-2.26936438e-01],\n",
              "        [ 1.31421625e-01],\n",
              "        [ 1.28527154e-03],\n",
              "        [-1.20060046e-01],\n",
              "        [ 1.50254960e-01],\n",
              "        [ 9.46931408e-02],\n",
              "        [-9.86497798e-02],\n",
              "        [-3.17599035e-01],\n",
              "        [-2.75575974e-02],\n",
              "        [ 3.12935842e-02],\n",
              "        [-2.92428498e-01],\n",
              "        [-2.22485962e-02],\n",
              "        [ 1.06176199e-01],\n",
              "        [ 7.50873924e-02],\n",
              "        [ 2.04889312e-01],\n",
              "        [ 3.56936192e-02],\n",
              "        [-1.65030230e-03],\n",
              "        [-3.53775936e-02],\n",
              "        [ 2.14638317e-02],\n",
              "        [-1.01852358e-01],\n",
              "        [-1.31248162e-01],\n",
              "        [-2.51009298e-02],\n",
              "        [-1.95009557e-01],\n",
              "        [ 1.67421251e-01],\n",
              "        [-6.84442501e-02],\n",
              "        [-3.73709425e-02],\n",
              "        [-3.30004593e-02],\n",
              "        [-2.44171555e-01],\n",
              "        [ 7.64892117e-02],\n",
              "        [ 1.87512627e-01],\n",
              "        [ 2.78867202e-01],\n",
              "        [ 1.76725159e-02],\n",
              "        [ 2.11147568e-01],\n",
              "        [-5.61309902e-02],\n",
              "        [ 7.51017712e-03],\n",
              "        [ 2.41959793e-01],\n",
              "        [-3.66195260e-03],\n",
              "        [-1.87397952e-01],\n",
              "        [ 2.02925782e-01],\n",
              "        [ 1.00757065e-01],\n",
              "        [-1.22580030e-01],\n",
              "        [-1.34985108e-01],\n",
              "        [-1.98476694e-01],\n",
              "        [-9.86094368e-02],\n",
              "        [-1.94416196e-01],\n",
              "        [ 1.49933825e-01],\n",
              "        [ 2.88784997e-02],\n",
              "        [-1.54053805e-01],\n",
              "        [ 1.81833368e-01],\n",
              "        [ 1.44614416e-01],\n",
              "        [-1.03865711e-01],\n",
              "        [ 1.92419412e-01],\n",
              "        [ 1.57824209e-01],\n",
              "        [ 2.11381760e-01],\n",
              "        [ 1.19678292e-01],\n",
              "        [-1.77119722e-01],\n",
              "        [ 1.67810340e-01],\n",
              "        [-1.24004664e-02],\n",
              "        [ 3.83592613e-02],\n",
              "        [-1.09945786e-01],\n",
              "        [-2.18743478e-01],\n",
              "        [-7.95452331e-02],\n",
              "        [-1.79602831e-02],\n",
              "        [ 8.96572008e-02],\n",
              "        [ 1.62241414e-01],\n",
              "        [ 9.72549231e-02],\n",
              "        [ 6.90381640e-10],\n",
              "        [-1.52416990e-01],\n",
              "        [ 3.39652367e-02],\n",
              "        [-1.26531303e-01],\n",
              "        [-2.50777346e-01],\n",
              "        [ 1.95175205e-01],\n",
              "        [-1.25245654e-01],\n",
              "        [-8.76210258e-02],\n",
              "        [ 7.10906830e-02],\n",
              "        [-1.38981452e-01],\n",
              "        [-2.13344197e-01],\n",
              "        [ 2.02062675e-01]])]"
            ]
          },
          "metadata": {},
          "execution_count": 28
        }
      ]
    },
    {
      "cell_type": "code",
      "source": [
        "mlpc_model.intercepts_"
      ],
      "metadata": {
        "colab": {
          "base_uri": "https://localhost:8080/"
        },
        "id": "VoLseP-R0sRW",
        "outputId": "63df785a-6263-4b30-8f6e-6b3481835197",
        "collapsed": true
      },
      "execution_count": 29,
      "outputs": [
        {
          "output_type": "execute_result",
          "data": {
            "text/plain": [
              "[array([-0.18114593,  0.06279997,  0.22213447,  0.08209763, -0.25798759,\n",
              "        -0.26354221, -0.09006452, -0.04181355, -0.28903075, -0.04778081,\n",
              "        -0.19202532,  0.10425316,  0.15186965,  0.13732537,  0.26037716,\n",
              "         0.13353415, -0.13493086,  0.05433864, -0.00111137, -0.13060145,\n",
              "         0.14616922, -0.17433573,  0.08757775, -0.19190738,  0.17939365,\n",
              "        -0.11519827,  0.05577436, -0.21001142, -0.07234134,  0.25605624,\n",
              "        -0.14811141, -0.19642971,  0.10957772,  0.12877995, -0.14311427,\n",
              "         0.11319374, -0.29088586,  0.18375093, -0.21840047, -0.00214283,\n",
              "         0.18895921, -0.08376102,  0.25415614,  0.25083019,  0.08869857,\n",
              "        -0.05698343,  0.01329483,  0.09313212,  0.06182375, -0.07768647,\n",
              "         0.05106781, -0.10599235, -0.04833032,  0.1080245 ,  0.09059299,\n",
              "        -0.02005592, -0.10155286,  0.05513415,  0.22547775, -0.19696951,\n",
              "         0.01445559,  0.20841755, -0.09000272,  0.22152132,  0.149414  ,\n",
              "        -0.03976139, -0.10548349, -0.26077913,  0.12911302, -0.10949732,\n",
              "         0.14657373, -0.24792568, -0.17584499,  0.01813705, -0.11582666,\n",
              "         0.05112223, -0.06456406, -0.01462401, -0.27583276,  0.19972433,\n",
              "        -0.14403182,  0.09713514,  0.00709387, -0.10300131,  0.11044482,\n",
              "        -0.04128534, -0.08539267, -0.00156846, -0.17003269,  0.24141125,\n",
              "         0.18491578,  0.21360872, -0.20230399,  0.00213226,  0.22818876,\n",
              "        -0.12581012, -0.01981836,  0.17626683,  0.20332965,  0.16168793]),\n",
              " array([0.04624939])]"
            ]
          },
          "metadata": {},
          "execution_count": 29
        }
      ]
    },
    {
      "cell_type": "code",
      "source": [
        "y_pred = mlpc_model.predict(X_test)"
      ],
      "metadata": {
        "id": "wQl1e5S21jtg",
        "colab": {
          "base_uri": "https://localhost:8080/"
        },
        "outputId": "d904ea9f-144c-4c99-c674-0f2ea226a05b"
      },
      "execution_count": 30,
      "outputs": [
        {
          "output_type": "stream",
          "name": "stderr",
          "text": [
            "/usr/local/lib/python3.10/dist-packages/sklearn/base.py:493: UserWarning: X does not have valid feature names, but MLPClassifier was fitted with feature names\n",
            "  warnings.warn(\n"
          ]
        }
      ]
    },
    {
      "cell_type": "code",
      "source": [
        "accuracy_score(y_test, y_pred)"
      ],
      "metadata": {
        "colab": {
          "base_uri": "https://localhost:8080/"
        },
        "id": "zK9EIX-Y3lh1",
        "outputId": "23e209f2-fda6-4b4b-852f-2bbe8277fa8c"
      },
      "execution_count": 31,
      "outputs": [
        {
          "output_type": "execute_result",
          "data": {
            "text/plain": [
              "0.6428571428571429"
            ]
          },
          "metadata": {},
          "execution_count": 31
        }
      ]
    },
    {
      "cell_type": "markdown",
      "source": [
        "**Model Tuning**"
      ],
      "metadata": {
        "id": "vEtFrZfs3x8R"
      }
    },
    {
      "cell_type": "code",
      "source": [
        "mlpc_params = {\"alpha\": [0.1, 0.01, 0.0],\n",
        "               \"hidden_layer_sizes\": [(10,10,10), (100,100)]}"
      ],
      "metadata": {
        "id": "YAtSJJpH3rFE"
      },
      "execution_count": 32,
      "outputs": []
    },
    {
      "cell_type": "code",
      "source": [
        "mlpc = MLPClassifier(solver=\"lbfgs\", activation=\"logistic\")"
      ],
      "metadata": {
        "id": "s0B-9Y-54m5p"
      },
      "execution_count": 33,
      "outputs": []
    },
    {
      "cell_type": "code",
      "source": [
        "mlpc_cv_model = GridSearchCV(mlpc, mlpc_params, cv=5, n_jobs=-1, verbose=2).fit(X_train, y_train)"
      ],
      "metadata": {
        "colab": {
          "base_uri": "https://localhost:8080/"
        },
        "id": "rPuukl5k4qxG",
        "outputId": "7af09131-5baf-49f8-c098-e17857b115a4"
      },
      "execution_count": 34,
      "outputs": [
        {
          "output_type": "stream",
          "name": "stdout",
          "text": [
            "Fitting 5 folds for each of 6 candidates, totalling 30 fits\n"
          ]
        },
        {
          "output_type": "stream",
          "name": "stderr",
          "text": [
            "/usr/local/lib/python3.10/dist-packages/sklearn/neural_network/_multilayer_perceptron.py:545: ConvergenceWarning: lbfgs failed to converge (status=1):\n",
            "STOP: TOTAL NO. of ITERATIONS REACHED LIMIT.\n",
            "\n",
            "Increase the number of iterations (max_iter) or scale the data as shown in:\n",
            "    https://scikit-learn.org/stable/modules/preprocessing.html\n",
            "  self.n_iter_ = _check_optimize_result(\"lbfgs\", opt_res, self.max_iter)\n"
          ]
        }
      ]
    },
    {
      "cell_type": "code",
      "source": [
        "mlpc_cv_model.get_params()"
      ],
      "metadata": {
        "colab": {
          "base_uri": "https://localhost:8080/"
        },
        "id": "DWbcyzYP45fc",
        "outputId": "1208c0bf-999d-4424-f7ed-9c9602b03a0d"
      },
      "execution_count": 35,
      "outputs": [
        {
          "output_type": "execute_result",
          "data": {
            "text/plain": [
              "{'cv': 5,\n",
              " 'error_score': nan,\n",
              " 'estimator__activation': 'logistic',\n",
              " 'estimator__alpha': 0.0001,\n",
              " 'estimator__batch_size': 'auto',\n",
              " 'estimator__beta_1': 0.9,\n",
              " 'estimator__beta_2': 0.999,\n",
              " 'estimator__early_stopping': False,\n",
              " 'estimator__epsilon': 1e-08,\n",
              " 'estimator__hidden_layer_sizes': (100,),\n",
              " 'estimator__learning_rate': 'constant',\n",
              " 'estimator__learning_rate_init': 0.001,\n",
              " 'estimator__max_fun': 15000,\n",
              " 'estimator__max_iter': 200,\n",
              " 'estimator__momentum': 0.9,\n",
              " 'estimator__n_iter_no_change': 10,\n",
              " 'estimator__nesterovs_momentum': True,\n",
              " 'estimator__power_t': 0.5,\n",
              " 'estimator__random_state': None,\n",
              " 'estimator__shuffle': True,\n",
              " 'estimator__solver': 'lbfgs',\n",
              " 'estimator__tol': 0.0001,\n",
              " 'estimator__validation_fraction': 0.1,\n",
              " 'estimator__verbose': False,\n",
              " 'estimator__warm_start': False,\n",
              " 'estimator': MLPClassifier(activation='logistic', solver='lbfgs'),\n",
              " 'n_jobs': -1,\n",
              " 'param_grid': {'alpha': [0.1, 0.01, 0.0],\n",
              "  'hidden_layer_sizes': [(10, 10, 10), (100, 100)]},\n",
              " 'pre_dispatch': '2*n_jobs',\n",
              " 'refit': True,\n",
              " 'return_train_score': False,\n",
              " 'scoring': None,\n",
              " 'verbose': 2}"
            ]
          },
          "metadata": {},
          "execution_count": 35
        }
      ]
    },
    {
      "cell_type": "code",
      "source": [
        "mlpc_cv_model.best_params_"
      ],
      "metadata": {
        "colab": {
          "base_uri": "https://localhost:8080/"
        },
        "id": "1FGoOMjm5VJ6",
        "outputId": "37e5b54a-d2c0-4992-ea8e-f7403876974e"
      },
      "execution_count": 36,
      "outputs": [
        {
          "output_type": "execute_result",
          "data": {
            "text/plain": [
              "{'alpha': 0.01, 'hidden_layer_sizes': (10, 10, 10)}"
            ]
          },
          "metadata": {},
          "execution_count": 36
        }
      ]
    },
    {
      "cell_type": "code",
      "source": [
        "mlpc_tuned = MLPClassifier(solver=\"lbfgs\", alpha=0.01, hidden_layer_sizes=(10,10,10), activation=\"logistic\").fit(X_train, y_train).fit(X_train, y_train)"
      ],
      "metadata": {
        "colab": {
          "base_uri": "https://localhost:8080/"
        },
        "id": "hZUqI6015oaw",
        "outputId": "345ba631-7630-4b6d-ad46-14e57ac550b1"
      },
      "execution_count": 40,
      "outputs": [
        {
          "output_type": "stream",
          "name": "stderr",
          "text": [
            "/usr/local/lib/python3.10/dist-packages/sklearn/neural_network/_multilayer_perceptron.py:545: ConvergenceWarning: lbfgs failed to converge (status=1):\n",
            "STOP: TOTAL NO. of ITERATIONS REACHED LIMIT.\n",
            "\n",
            "Increase the number of iterations (max_iter) or scale the data as shown in:\n",
            "    https://scikit-learn.org/stable/modules/preprocessing.html\n",
            "  self.n_iter_ = _check_optimize_result(\"lbfgs\", opt_res, self.max_iter)\n",
            "/usr/local/lib/python3.10/dist-packages/sklearn/neural_network/_multilayer_perceptron.py:545: ConvergenceWarning: lbfgs failed to converge (status=1):\n",
            "STOP: TOTAL NO. of ITERATIONS REACHED LIMIT.\n",
            "\n",
            "Increase the number of iterations (max_iter) or scale the data as shown in:\n",
            "    https://scikit-learn.org/stable/modules/preprocessing.html\n",
            "  self.n_iter_ = _check_optimize_result(\"lbfgs\", opt_res, self.max_iter)\n"
          ]
        }
      ]
    },
    {
      "cell_type": "code",
      "source": [
        "y_pred = mlpc_tuned.predict(X_test)"
      ],
      "metadata": {
        "id": "AvwUdx4t59xH",
        "colab": {
          "base_uri": "https://localhost:8080/"
        },
        "outputId": "dfc9ce72-87b9-40d8-d734-632b442a4b54"
      },
      "execution_count": 41,
      "outputs": [
        {
          "output_type": "stream",
          "name": "stderr",
          "text": [
            "/usr/local/lib/python3.10/dist-packages/sklearn/base.py:493: UserWarning: X does not have valid feature names, but MLPClassifier was fitted with feature names\n",
            "  warnings.warn(\n"
          ]
        }
      ]
    },
    {
      "cell_type": "code",
      "source": [
        "accuracy_score(y_test, y_pred)"
      ],
      "metadata": {
        "colab": {
          "base_uri": "https://localhost:8080/"
        },
        "id": "sG-p-_x_53ln",
        "outputId": "2309115b-0d87-4e35-fe50-868a230a7e78"
      },
      "execution_count": 42,
      "outputs": [
        {
          "output_type": "execute_result",
          "data": {
            "text/plain": [
              "0.6623376623376623"
            ]
          },
          "metadata": {},
          "execution_count": 42
        }
      ]
    },
    {
      "cell_type": "code",
      "source": [],
      "metadata": {
        "id": "515o_y1c6xGr"
      },
      "execution_count": 42,
      "outputs": []
    }
  ]
}