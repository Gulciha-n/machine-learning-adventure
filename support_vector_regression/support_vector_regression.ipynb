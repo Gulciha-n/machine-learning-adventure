{
  "nbformat": 4,
  "nbformat_minor": 0,
  "metadata": {
    "colab": {
      "provenance": []
    },
    "kernelspec": {
      "name": "python3",
      "display_name": "Python 3"
    },
    "language_info": {
      "name": "python"
    }
  },
  "cells": [
    {
      "cell_type": "code",
      "execution_count": 1,
      "metadata": {
        "colab": {
          "base_uri": "https://localhost:8080/"
        },
        "id": "XBRlsFe2UqVd",
        "outputId": "6ed3002b-ca1c-496e-96fc-3e26e60bd29f"
      },
      "outputs": [
        {
          "output_type": "stream",
          "name": "stdout",
          "text": [
            "Mounted at /content/drive\n"
          ]
        }
      ],
      "source": [
        "from google.colab import drive\n",
        "drive.mount('/content/drive')"
      ]
    },
    {
      "cell_type": "code",
      "source": [
        "import pandas as pd\n",
        "import numpy as np\n",
        "import matplotlib.pyplot as plt\n",
        "from sklearn.model_selection import train_test_split, cross_val_score\n",
        "from sklearn.svm import SVR\n",
        "from sklearn.metrics import mean_squared_error, r2_score\n",
        "from sklearn.model_selection import GridSearchCV"
      ],
      "metadata": {
        "id": "xJXQ_NuqYubN"
      },
      "execution_count": 19,
      "outputs": []
    },
    {
      "cell_type": "code",
      "source": [
        "df = pd.read_csv(\"/content/drive/MyDrive/Colab Notebooks/ml/Hitters.csv\")\n",
        "df.dropna(inplace=True)"
      ],
      "metadata": {
        "id": "2HtbUzqkZHNY"
      },
      "execution_count": 4,
      "outputs": []
    },
    {
      "cell_type": "code",
      "source": [
        "dms = pd.get_dummies(df[['League', 'Division', 'NewLeague']])\n",
        "y = df[\"Salary\"]\n",
        "X_ = df.drop(['Salary', 'League', 'Division', 'NewLeague'], axis=1).astype('float64')\n",
        "X = pd.concat([X_, dms[['League_N', 'Division_W', 'NewLeague_N']]], axis=1)\n",
        "X_train, X_test, y_train, y_test = train_test_split(X, y, test_size=0.25, random_state=42)"
      ],
      "metadata": {
        "id": "1dLWgFoHZRqz"
      },
      "execution_count": 5,
      "outputs": []
    },
    {
      "cell_type": "markdown",
      "source": [
        "**Model-Prediction**"
      ],
      "metadata": {
        "id": "9JR9aKTic_Cx"
      }
    },
    {
      "cell_type": "code",
      "source": [
        "svr_model = SVR(kernel='linear').fit(X_train, y_train) # nonlinear : \"rbf\""
      ],
      "metadata": {
        "id": "ZlCEty-_ZUlo"
      },
      "execution_count": 7,
      "outputs": []
    },
    {
      "cell_type": "code",
      "source": [
        "print(svr_model.get_params())"
      ],
      "metadata": {
        "colab": {
          "base_uri": "https://localhost:8080/"
        },
        "id": "8Pt0iMWWfNzb",
        "outputId": "cf539082-59e7-4cf8-b3ae-f9d7c5dc50ff"
      },
      "execution_count": 17,
      "outputs": [
        {
          "output_type": "stream",
          "name": "stdout",
          "text": [
            "{'C': 1.0, 'cache_size': 200, 'coef0': 0.0, 'degree': 3, 'epsilon': 0.1, 'gamma': 'scale', 'kernel': 'linear', 'max_iter': -1, 'shrinking': True, 'tol': 0.001, 'verbose': False}\n"
          ]
        }
      ]
    },
    {
      "cell_type": "code",
      "source": [
        "svr_model.intercept_"
      ],
      "metadata": {
        "colab": {
          "base_uri": "https://localhost:8080/"
        },
        "id": "ux0--Kaodw8G",
        "outputId": "b3934c1a-32ce-488e-d9f5-e726e42189a4"
      },
      "execution_count": 11,
      "outputs": [
        {
          "output_type": "execute_result",
          "data": {
            "text/plain": [
              "array([-80.15196063])"
            ]
          },
          "metadata": {},
          "execution_count": 11
        }
      ]
    },
    {
      "cell_type": "code",
      "source": [
        "svr_model.coef_"
      ],
      "metadata": {
        "colab": {
          "base_uri": "https://localhost:8080/"
        },
        "id": "b_nui4Tddwsp",
        "outputId": "893213ac-cb07-445d-d702-1d688a72deea"
      },
      "execution_count": 12,
      "outputs": [
        {
          "output_type": "execute_result",
          "data": {
            "text/plain": [
              "array([[ -1.2183904 ,   6.09602978,  -3.67574533,   0.14217072,\n",
              "          0.51435925,   1.28388992,  12.55922527,  -0.08693754,\n",
              "          0.46597185,   2.98259931,   0.52944513,  -0.79820793,\n",
              "         -0.16015531,   0.30872795,   0.28842348,  -1.79560066,\n",
              "          6.41868986, -10.74313785,   1.33374319]])"
            ]
          },
          "metadata": {},
          "execution_count": 12
        }
      ]
    },
    {
      "cell_type": "code",
      "source": [
        "y_pred = svr_model.predict(X_test)"
      ],
      "metadata": {
        "id": "E6uXW2wSeBWC"
      },
      "execution_count": 13,
      "outputs": []
    },
    {
      "cell_type": "code",
      "source": [
        "rmse = np.sqrt(mean_squared_error(y_test, y_pred))\n",
        "rmse"
      ],
      "metadata": {
        "colab": {
          "base_uri": "https://localhost:8080/"
        },
        "id": "4y9eCGV6dpAh",
        "outputId": "08fe3c70-9343-4cc4-fedb-6814849a0849"
      },
      "execution_count": 14,
      "outputs": [
        {
          "output_type": "execute_result",
          "data": {
            "text/plain": [
              "370.0408415795005"
            ]
          },
          "metadata": {},
          "execution_count": 14
        }
      ]
    },
    {
      "cell_type": "markdown",
      "source": [
        "**Model Tuning**\n",
        "\n",
        "**default C: 1 , ceza hiperparametresi olan C'yi optimize etmemiz gerekiyor.**\n",
        "\n",
        "**GridSearchCV ve Cross val kullanarak buna karar vereceğiz**"
      ],
      "metadata": {
        "id": "fFiz5XoOey60"
      }
    },
    {
      "cell_type": "code",
      "source": [
        "svr_params = {\"C\": [0.1, 0.5, 1, 3]}\n",
        "# aranmasını istediğimiz parametreleri bir sözlük içerisinde ifade ediyoruz"
      ],
      "metadata": {
        "id": "uYO-FmRldrMN"
      },
      "execution_count": 18,
      "outputs": []
    },
    {
      "cell_type": "code",
      "source": [
        "svr_cv_model = GridSearchCV(svr_model, svr_params, cv=5).fit(X_train, y_train)\n",
        "# svr_cv_model = GridSearchCV(svr_model, svr_params, cv=5, verbose=2 , n_jobs=-1).fit(X_train, y_train)"
      ],
      "metadata": {
        "id": "J3OKerONg39U"
      },
      "execution_count": 22,
      "outputs": []
    },
    {
      "cell_type": "code",
      "source": [
        "svr_cv_model.best_params_"
      ],
      "metadata": {
        "colab": {
          "base_uri": "https://localhost:8080/"
        },
        "id": "1J884-VChMhr",
        "outputId": "858e7ea4-18c4-4476-d537-96923113fd9d"
      },
      "execution_count": 24,
      "outputs": [
        {
          "output_type": "execute_result",
          "data": {
            "text/plain": [
              "{'C': 0.5}"
            ]
          },
          "metadata": {},
          "execution_count": 24
        }
      ]
    },
    {
      "cell_type": "code",
      "source": [
        "svr_tuned = SVR(kernel=\"linear\", C=0.5).fit(X_train, y_train)"
      ],
      "metadata": {
        "id": "YnmkDFwvh1rL"
      },
      "execution_count": 26,
      "outputs": []
    },
    {
      "cell_type": "code",
      "source": [
        "y_pred = svr_tuned.predict(X_test)"
      ],
      "metadata": {
        "id": "g42BKYp6jHO3"
      },
      "execution_count": 27,
      "outputs": []
    },
    {
      "cell_type": "code",
      "source": [
        "rmse = np.sqrt(mean_squared_error(y_test, y_pred))\n",
        "rmse"
      ],
      "metadata": {
        "colab": {
          "base_uri": "https://localhost:8080/"
        },
        "id": "MPezP7bHjQsj",
        "outputId": "0ce8b2eb-240d-4308-f56c-ed10e9a01174"
      },
      "execution_count": 28,
      "outputs": [
        {
          "output_type": "execute_result",
          "data": {
            "text/plain": [
              "367.98747616655294"
            ]
          },
          "metadata": {},
          "execution_count": 28
        }
      ]
    },
    {
      "cell_type": "code",
      "source": [],
      "metadata": {
        "id": "yUOSr-4GjS6U"
      },
      "execution_count": null,
      "outputs": []
    }
  ]
}