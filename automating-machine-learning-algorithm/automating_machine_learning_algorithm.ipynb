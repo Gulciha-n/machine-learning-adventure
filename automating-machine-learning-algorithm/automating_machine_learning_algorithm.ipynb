{
  "nbformat": 4,
  "nbformat_minor": 0,
  "metadata": {
    "colab": {
      "provenance": []
    },
    "kernelspec": {
      "name": "python3",
      "display_name": "Python 3"
    },
    "language_info": {
      "name": "python"
    }
  },
  "cells": [
    {
      "cell_type": "code",
      "execution_count": 2,
      "metadata": {
        "colab": {
          "base_uri": "https://localhost:8080/"
        },
        "id": "gnNyCRfUoz6K",
        "outputId": "b0ad8b2b-9a4e-4b18-e5f6-ac0278bcf794"
      },
      "outputs": [
        {
          "output_type": "stream",
          "name": "stdout",
          "text": [
            "Mounted at /content/gdrive\n"
          ]
        }
      ],
      "source": [
        "from google.colab import drive\n",
        "drive.mount('/content/gdrive')"
      ]
    },
    {
      "cell_type": "markdown",
      "source": [
        "**When we receive a dataset, we can automate the machine learning processes applied to it in order to test all models and obtain results for each. This automation process allows us to apply different machine learning algorithms to the same dataset, compare their performances, and select the most suitable model. By doing so, all steps from model training to hyperparameter optimization are executed quickly and systematically.**\n",
        "\n",
        "*Elimize bir veri seti ulaştığında, bu veri seti üzerinde gerçekleştireceğimiz makine öğrenmesi işlemlerini otomatikleştirerek, tüm modelleri denemek ve bunlara ilişkin sonuçlar elde etmek mümkündür. Bu otomatikleştirme süreci, farklı makine öğrenmesi algoritmalarını aynı veri seti üzerinde uygulayarak performanslarını karşılaştırmayı ve en uygun modeli seçmeyi sağlar. Bu sayede, model eğitiminden hiperparametre optimizasyonuna kadar tüm adımlar hızlı ve sistematik bir şekilde yürütülür.*"
      ],
      "metadata": {
        "id": "MrpVoVWBqZGp"
      }
    },
    {
      "cell_type": "code",
      "source": [
        "import pandas as pd\n",
        "import numpy as np\n",
        "import matplotlib.pyplot as plt\n",
        "from sklearn.model_selection import train_test_split, cross_val_score\n",
        "from sklearn.metrics import mean_squared_error, r2_score\n",
        "from sklearn.model_selection import GridSearchCV\n",
        "from sklearn.preprocessing import StandardScaler\n",
        "from sklearn.metrics import mean_squared_error, r2_score\n",
        "from sklearn.tree import DecisionTreeRegressor\n",
        "from sklearn.ensemble import RandomForestRegressor\n",
        "from sklearn.ensemble import GradientBoostingRegressor\n",
        "from sklearn.svm import SVR\n",
        "from sklearn.neighbors import KNeighborsRegressor\n",
        "from sklearn.linear_model import Ridge\n",
        "from sklearn.linear_model import Lasso\n",
        "from sklearn import model_selection\n",
        "import warnings\n",
        "warnings.filterwarnings(\"ignore\")"
      ],
      "metadata": {
        "id": "LdUfu33XrGBu"
      },
      "execution_count": 25,
      "outputs": []
    },
    {
      "cell_type": "code",
      "source": [
        "df = pd.read_csv(\"/content/gdrive/MyDrive/Colab Notebooks/ml/Hitters.csv\")\n",
        "df.dropna(inplace=True)\n",
        "dms = pd.get_dummies(df[['League', 'Division', 'NewLeague']])"
      ],
      "metadata": {
        "id": "sFzIXUgko-dV"
      },
      "execution_count": 5,
      "outputs": []
    },
    {
      "cell_type": "markdown",
      "source": [
        "**Automatic Function**\n",
        "\n",
        "compML:Comparison of Machine Learning Models\n",
        "\n",
        "**compML trains multiple machine learning models on the same dataset and compares their performances.**\n",
        "\n",
        "*compML birden fazla makine öğrenimi modelini aynı veri seti üzerinde eğitip, performanslarını karşılaştırır.*"
      ],
      "metadata": {
        "id": "1hFoO2mxo813"
      }
    },
    {
      "cell_type": "code",
      "source": [
        "def compML(df, y, alg):\n",
        "\n",
        "  # train-test split\n",
        "  y = df[y]\n",
        "  X_ = df.drop(['Salary', 'League', 'Division', 'NewLeague'], axis=1).astype('float64')\n",
        "  X = pd.concat([X_, dms[['League_N', 'Division_W', 'NewLeague_N']]], axis=1)\n",
        "  X_train, X_test, y_train, y_test = train_test_split(X, y, test_size=0.25, random_state=42)\n",
        "\n",
        "  # modeling\n",
        "  model = alg().fit(X_train, y_train)\n",
        "  y_pred = model.predict(X_test)\n",
        "  RMSE = np.sqrt(mean_squared_error(y_test, y_pred))\n",
        "  model_name = alg.__name__\n",
        "  print(model_name, \"RMSE test error: \", RMSE)\n",
        "  return RMSE"
      ],
      "metadata": {
        "id": "MqE6KClko8rU"
      },
      "execution_count": 76,
      "outputs": []
    },
    {
      "cell_type": "code",
      "source": [
        "!pip install lightgbm\n",
        "from lightgbm import LGBMRegressor"
      ],
      "metadata": {
        "colab": {
          "base_uri": "https://localhost:8080/"
        },
        "id": "xNWyZo1Gst-E",
        "outputId": "47771c73-c587-45b1-e807-7379e53d4af1"
      },
      "execution_count": 60,
      "outputs": [
        {
          "output_type": "stream",
          "name": "stdout",
          "text": [
            "Requirement already satisfied: lightgbm in /usr/local/lib/python3.10/dist-packages (4.5.0)\n",
            "Requirement already satisfied: numpy>=1.17.0 in /usr/local/lib/python3.10/dist-packages (from lightgbm) (1.26.4)\n",
            "Requirement already satisfied: scipy in /usr/local/lib/python3.10/dist-packages (from lightgbm) (1.13.1)\n"
          ]
        }
      ]
    },
    {
      "cell_type": "code",
      "source": [
        "compML(df, 'Salary', LGBMRegressor)"
      ],
      "metadata": {
        "colab": {
          "base_uri": "https://localhost:8080/"
        },
        "id": "9PiuN6asolhJ",
        "outputId": "c2908e65-5d3e-4e28-9bd6-cf82a6c0b96f"
      },
      "execution_count": 61,
      "outputs": [
        {
          "output_type": "stream",
          "name": "stdout",
          "text": [
            "LGBMRegressor RMSE test error:  363.8712087611089\n"
          ]
        },
        {
          "output_type": "execute_result",
          "data": {
            "text/plain": [
              "363.8712087611089"
            ]
          },
          "metadata": {},
          "execution_count": 61
        }
      ]
    },
    {
      "cell_type": "code",
      "source": [
        "compML(df, 'Salary', DecisionTreeRegressor)"
      ],
      "metadata": {
        "colab": {
          "base_uri": "https://localhost:8080/"
        },
        "id": "fyhMClPZtEuA",
        "outputId": "3557af28-32cc-4225-a2eb-7e517bce1a91"
      },
      "execution_count": 62,
      "outputs": [
        {
          "output_type": "stream",
          "name": "stdout",
          "text": [
            "DecisionTreeRegressor RMSE test error:  456.4581294089472\n"
          ]
        },
        {
          "output_type": "execute_result",
          "data": {
            "text/plain": [
              "456.4581294089472"
            ]
          },
          "metadata": {},
          "execution_count": 62
        }
      ]
    },
    {
      "cell_type": "code",
      "source": [
        "compML(df, 'Salary', RandomForestRegressor)"
      ],
      "metadata": {
        "colab": {
          "base_uri": "https://localhost:8080/"
        },
        "id": "aRpfaWUUtGnO",
        "outputId": "a46b7ae3-22a3-4746-cad2-761ee4735019"
      },
      "execution_count": 63,
      "outputs": [
        {
          "output_type": "stream",
          "name": "stdout",
          "text": [
            "RandomForestRegressor RMSE test error:  330.7201416516618\n"
          ]
        },
        {
          "output_type": "execute_result",
          "data": {
            "text/plain": [
              "330.7201416516618"
            ]
          },
          "metadata": {},
          "execution_count": 63
        }
      ]
    },
    {
      "cell_type": "code",
      "source": [
        "compML(df, 'Salary', GradientBoostingRegressor)"
      ],
      "metadata": {
        "colab": {
          "base_uri": "https://localhost:8080/"
        },
        "id": "AC7nxa-vtUnl",
        "outputId": "8bc6b5e9-63bd-4bcd-9507-35d431a242fe"
      },
      "execution_count": 64,
      "outputs": [
        {
          "output_type": "stream",
          "name": "stdout",
          "text": [
            "GradientBoostingRegressor RMSE test error:  352.307475227401\n"
          ]
        },
        {
          "output_type": "execute_result",
          "data": {
            "text/plain": [
              "352.307475227401"
            ]
          },
          "metadata": {},
          "execution_count": 64
        }
      ]
    },
    {
      "cell_type": "code",
      "source": [
        "compML(df, 'Salary', LGBMRegressor)"
      ],
      "metadata": {
        "colab": {
          "base_uri": "https://localhost:8080/"
        },
        "id": "D2xaSdhOtXBJ",
        "outputId": "dadbc157-126d-4fdd-9b86-fffd7dbd88fb"
      },
      "execution_count": 65,
      "outputs": [
        {
          "output_type": "stream",
          "name": "stdout",
          "text": [
            "LGBMRegressor RMSE test error:  363.8712087611089\n"
          ]
        },
        {
          "output_type": "execute_result",
          "data": {
            "text/plain": [
              "363.8712087611089"
            ]
          },
          "metadata": {},
          "execution_count": 65
        }
      ]
    },
    {
      "cell_type": "code",
      "source": [
        "compML(df, 'Salary', KNeighborsRegressor)"
      ],
      "metadata": {
        "colab": {
          "base_uri": "https://localhost:8080/"
        },
        "id": "DBXhfXNTtYia",
        "outputId": "6a126a09-f7f8-4c9f-dc30-83096b07455e"
      },
      "execution_count": 66,
      "outputs": [
        {
          "output_type": "stream",
          "name": "stdout",
          "text": [
            "KNeighborsRegressor RMSE test error:  426.6570764525201\n"
          ]
        },
        {
          "output_type": "execute_result",
          "data": {
            "text/plain": [
              "426.6570764525201"
            ]
          },
          "metadata": {},
          "execution_count": 66
        }
      ]
    },
    {
      "cell_type": "code",
      "source": [
        "compML(df, 'Salary', SVR)"
      ],
      "metadata": {
        "colab": {
          "base_uri": "https://localhost:8080/"
        },
        "id": "Jf74HbkAt07r",
        "outputId": "418613fe-374c-4617-b9f2-3945fe2a97ac"
      },
      "execution_count": 67,
      "outputs": [
        {
          "output_type": "stream",
          "name": "stdout",
          "text": [
            "SVR RMSE test error:  460.0032657244849\n"
          ]
        },
        {
          "output_type": "execute_result",
          "data": {
            "text/plain": [
              "460.0032657244849"
            ]
          },
          "metadata": {},
          "execution_count": 67
        }
      ]
    },
    {
      "cell_type": "code",
      "source": [
        "compML(df, 'Salary', Ridge)"
      ],
      "metadata": {
        "colab": {
          "base_uri": "https://localhost:8080/"
        },
        "id": "H1PaOTc3t4oz",
        "outputId": "e7b1e73f-fca9-4f68-ceff-5a9e1fa53283"
      },
      "execution_count": 68,
      "outputs": [
        {
          "output_type": "stream",
          "name": "stdout",
          "text": [
            "Ridge RMSE test error:  356.80829057302424\n"
          ]
        },
        {
          "output_type": "execute_result",
          "data": {
            "text/plain": [
              "356.80829057302424"
            ]
          },
          "metadata": {},
          "execution_count": 68
        }
      ]
    },
    {
      "cell_type": "code",
      "source": [
        "compML(df, 'Salary', Lasso)"
      ],
      "metadata": {
        "colab": {
          "base_uri": "https://localhost:8080/"
        },
        "id": "d7axwaJouEth",
        "outputId": "e9ca42f4-f911-47fe-d350-5d67022a71c5"
      },
      "execution_count": 69,
      "outputs": [
        {
          "output_type": "stream",
          "name": "stdout",
          "text": [
            "Lasso RMSE test error:  356.0975884554034\n"
          ]
        },
        {
          "output_type": "execute_result",
          "data": {
            "text/plain": [
              "356.0975884554034"
            ]
          },
          "metadata": {},
          "execution_count": 69
        }
      ]
    },
    {
      "cell_type": "markdown",
      "source": [
        "**Automation with model list**"
      ],
      "metadata": {
        "id": "ssPa8PIVvNQI"
      }
    },
    {
      "cell_type": "code",
      "source": [
        "from sklearn.linear_model import LinearRegression, Ridge, Lasso, ElasticNet\n",
        "from sklearn.tree import DecisionTreeRegressor\n",
        "from sklearn.ensemble import RandomForestRegressor, GradientBoostingRegressor, AdaBoostRegressor\n",
        "from sklearn.svm import SVR\n",
        "from xgboost import XGBRegressor\n",
        "from lightgbm import LGBMRegressor"
      ],
      "metadata": {
        "id": "IHtS74u9v6_f"
      },
      "execution_count": 70,
      "outputs": []
    },
    {
      "cell_type": "code",
      "source": [
        "models = [\n",
        "    LinearRegression,\n",
        "    Ridge,\n",
        "    Lasso,\n",
        "    ElasticNet,\n",
        "    DecisionTreeRegressor,\n",
        "    RandomForestRegressor,\n",
        "    GradientBoostingRegressor,\n",
        "    AdaBoostRegressor,\n",
        "    SVR,\n",
        "    XGBRegressor,\n",
        "    LGBMRegressor\n",
        "]"
      ],
      "metadata": {
        "id": "cQgpdUxUuG0A"
      },
      "execution_count": 71,
      "outputs": []
    },
    {
      "cell_type": "code",
      "source": [
        "for i in models:\n",
        "  compML(df, 'Salary', i)"
      ],
      "metadata": {
        "colab": {
          "base_uri": "https://localhost:8080/"
        },
        "id": "QyfRWHq-v_Sk",
        "outputId": "863173a4-23b8-4a84-a328-c472e3525333"
      },
      "execution_count": 77,
      "outputs": [
        {
          "output_type": "stream",
          "name": "stdout",
          "text": [
            "LinearRegression RMSE test error:  357.0532909460735\n",
            "Ridge RMSE test error:  356.80829057302424\n",
            "Lasso RMSE test error:  356.0975884554034\n",
            "ElasticNet RMSE test error:  357.1676548181246\n",
            "DecisionTreeRegressor RMSE test error:  502.67985269708254\n",
            "RandomForestRegressor RMSE test error:  343.9451170959347\n",
            "GradientBoostingRegressor RMSE test error:  345.90696536356836\n",
            "AdaBoostRegressor RMSE test error:  363.6077517962934\n",
            "SVR RMSE test error:  460.0032657244849\n",
            "XGBRegressor RMSE test error:  366.3863437634965\n",
            "LGBMRegressor RMSE test error:  363.8712087611089\n"
          ]
        }
      ]
    },
    {
      "cell_type": "code",
      "source": [
        "'''\n",
        "__name__ fonksiyonu, Python'da bir nesnenin veya fonksiyonun adını elde etmek için kullanılan\n",
        "özel bir attribute'dur. Genellikle fonksiyonlar, sınıflar veya modüller için kullanılır ve o\n",
        "nesnenin ismini döndürür.\n",
        "\n",
        "Python'da bir fonksiyon hiçbir şey döndürmezse varsayılan olarak None değeri döndürür. Yani, bir\n",
        "fonksiyonda açıkça return ifadesi kullanmazsan, Python o fonksiyonun sonucunu None olarak kabul eder.\n",
        "'''"
      ],
      "metadata": {
        "id": "bn9jAftywgIJ"
      },
      "execution_count": 58,
      "outputs": []
    }
  ]
}