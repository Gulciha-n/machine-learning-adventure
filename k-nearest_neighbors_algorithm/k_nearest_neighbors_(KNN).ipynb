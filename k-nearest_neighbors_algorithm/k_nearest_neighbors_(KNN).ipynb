{
  "nbformat": 4,
  "nbformat_minor": 0,
  "metadata": {
    "colab": {
      "provenance": []
    },
    "kernelspec": {
      "name": "python3",
      "display_name": "Python 3"
    },
    "language_info": {
      "name": "python"
    }
  },
  "cells": [
    {
      "cell_type": "code",
      "execution_count": 1,
      "metadata": {
        "colab": {
          "base_uri": "https://localhost:8080/"
        },
        "id": "L8CnkVN14jHj",
        "outputId": "7b97b924-2785-4d43-cdfa-a55485a3527c"
      },
      "outputs": [
        {
          "output_type": "stream",
          "name": "stdout",
          "text": [
            "Mounted at /content/gdrive\n"
          ]
        }
      ],
      "source": [
        "from google.colab import drive\n",
        "drive.mount(\"/content/gdrive\")"
      ]
    },
    {
      "cell_type": "code",
      "source": [
        "import pandas as pd\n",
        "import numpy as np\n",
        "import matplotlib.pyplot as plt\n",
        "from sklearn.model_selection import train_test_split, GridSearchCV\n",
        "from sklearn.metrics import mean_squared_error, r2_score\n",
        "from sklearn.linear_model import LinearRegression\n",
        "from sklearn import neighbors\n",
        "from sklearn.neighbors import KNeighborsRegressor\n",
        "from sklearn.preprocessing import scale\n",
        "from sklearn.preprocessing import StandardScaler\n",
        "from sklearn import model_selection"
      ],
      "metadata": {
        "id": "eOYvnSAU4tN2"
      },
      "execution_count": 12,
      "outputs": []
    },
    {
      "cell_type": "code",
      "source": [
        "from warnings import filterwarnings\n",
        "filterwarnings(\"ignore\")"
      ],
      "metadata": {
        "id": "-Lco-3cG5qCy"
      },
      "execution_count": 13,
      "outputs": []
    },
    {
      "cell_type": "code",
      "source": [
        "df = pd.read_csv(\"/content/gdrive/MyDrive/Colab Notebooks/ml/Hitters.csv\")\n",
        "df.dropna(inplace=True)"
      ],
      "metadata": {
        "id": "2nAo6Tj957R1"
      },
      "execution_count": 14,
      "outputs": []
    },
    {
      "cell_type": "code",
      "source": [
        "dms = pd.get_dummies(df[['League', 'Division', 'NewLeague']])\n",
        "y = df[\"Salary\"]\n",
        "X_ = df.drop(['Salary', 'League', 'Division', 'NewLeague'], axis=1).astype('float64')\n",
        "X = pd.concat([X_, dms[['League_N', 'Division_W', 'NewLeague_N']]], axis=1)\n",
        "X_train, X_test, y_train, y_test = train_test_split(X, y, test_size=0.25, random_state=42)"
      ],
      "metadata": {
        "id": "rd_WRaYE6a40"
      },
      "execution_count": 15,
      "outputs": []
    },
    {
      "cell_type": "markdown",
      "source": [
        "**Model**"
      ],
      "metadata": {
        "id": "pDXCOAMtHeKX"
      }
    },
    {
      "cell_type": "code",
      "source": [
        "knn_model = KNeighborsRegressor().fit(X_train, y_train)"
      ],
      "metadata": {
        "id": "0euuLqs3HQCS"
      },
      "execution_count": 17,
      "outputs": []
    },
    {
      "cell_type": "code",
      "source": [
        "knn_model.n_neighbors"
      ],
      "metadata": {
        "colab": {
          "base_uri": "https://localhost:8080/"
        },
        "id": "czgxmoYfH_SQ",
        "outputId": "f4f2da78-4927-460d-a20f-7fcd648b42a2"
      },
      "execution_count": 19,
      "outputs": [
        {
          "output_type": "execute_result",
          "data": {
            "text/plain": [
              "5"
            ]
          },
          "metadata": {},
          "execution_count": 19
        }
      ]
    },
    {
      "cell_type": "code",
      "source": [
        "knn_model.metric"
      ],
      "metadata": {
        "colab": {
          "base_uri": "https://localhost:8080/",
          "height": 35
        },
        "id": "-JhoNXguINk6",
        "outputId": "767b9f79-9cb6-4130-e721-10e555867f5d"
      },
      "execution_count": 20,
      "outputs": [
        {
          "output_type": "execute_result",
          "data": {
            "text/plain": [
              "'minkowski'"
            ],
            "application/vnd.google.colaboratory.intrinsic+json": {
              "type": "string"
            }
          },
          "metadata": {},
          "execution_count": 20
        }
      ]
    },
    {
      "cell_type": "markdown",
      "source": [
        "**Prediction**"
      ],
      "metadata": {
        "id": "evbef0gnIZK1"
      }
    },
    {
      "cell_type": "code",
      "source": [
        "y_pred = knn_model.predict(X_test)"
      ],
      "metadata": {
        "id": "ux9U7BVKISDo"
      },
      "execution_count": 22,
      "outputs": []
    },
    {
      "cell_type": "code",
      "source": [
        "np.sqrt(mean_squared_error(y_test, y_pred))"
      ],
      "metadata": {
        "colab": {
          "base_uri": "https://localhost:8080/"
        },
        "id": "oX86_NWKIdg6",
        "outputId": "f6cf05a3-1492-44e7-82de-fa947d43dd74"
      },
      "execution_count": 23,
      "outputs": [
        {
          "output_type": "execute_result",
          "data": {
            "text/plain": [
              "426.6570764525201"
            ]
          },
          "metadata": {},
          "execution_count": 23
        }
      ]
    },
    {
      "cell_type": "markdown",
      "source": [
        "**Model Tuning**"
      ],
      "metadata": {
        "id": "ddL1cbB3JWOZ"
      }
    },
    {
      "cell_type": "code",
      "source": [
        "# Manually calculating k-neighbors value\n",
        "RMSE = []\n",
        "\n",
        "for k in range(10):\n",
        "  k = k+1\n",
        "  knn_model = KNeighborsRegressor(n_neighbors=k).fit(X_train, y_train)\n",
        "  y_pred = knn_model.predict(X_test)\n",
        "  rmse = np.sqrt(mean_squared_error(y_test, y_pred))\n",
        "  RMSE.append(rmse)\n",
        "  print(\"k=\", k, \"RMSE value :\", rmse)"
      ],
      "metadata": {
        "colab": {
          "base_uri": "https://localhost:8080/"
        },
        "id": "Btq1Yc-1ht6-",
        "outputId": "f1011bb6-3fc8-4e4f-8b18-88250b29b92d"
      },
      "execution_count": 24,
      "outputs": [
        {
          "output_type": "stream",
          "name": "stdout",
          "text": [
            "k= 1 RMSE value : 455.03925390751965\n",
            "k= 2 RMSE value : 415.99629571490965\n",
            "k= 3 RMSE value : 420.6765370082348\n",
            "k= 4 RMSE value : 428.8564674588792\n",
            "k= 5 RMSE value : 426.6570764525201\n",
            "k= 6 RMSE value : 423.5071669008732\n",
            "k= 7 RMSE value : 414.9361222421057\n",
            "k= 8 RMSE value : 413.7094731463598\n",
            "k= 9 RMSE value : 417.84419990871265\n",
            "k= 10 RMSE value : 421.6252180741266\n"
          ]
        }
      ]
    },
    {
      "cell_type": "code",
      "source": [
        "# find k-neighbors value with GridSearchCV\n",
        "knn_params = {\"n_neighbors\": np.arange(1,30,1)}\n",
        "knn = KNeighborsRegressor()\n",
        "\n",
        "knn_cv_model = GridSearchCV(knn, knn_params, cv=10).fit(X_train, y_train)\n"
      ],
      "metadata": {
        "id": "359fsONSnB0q"
      },
      "execution_count": 26,
      "outputs": []
    },
    {
      "cell_type": "code",
      "source": [
        "knn_cv_model.best_params_"
      ],
      "metadata": {
        "colab": {
          "base_uri": "https://localhost:8080/"
        },
        "id": "_naufAmVnaQh",
        "outputId": "a03e45ad-4545-4f54-c161-7e2e8c128b4d"
      },
      "execution_count": 28,
      "outputs": [
        {
          "output_type": "execute_result",
          "data": {
            "text/plain": [
              "{'n_neighbors': 8}"
            ]
          },
          "metadata": {},
          "execution_count": 28
        }
      ]
    },
    {
      "cell_type": "markdown",
      "source": [
        "**KNN Final Model**"
      ],
      "metadata": {
        "id": "Ky0cdfm_ngon"
      }
    },
    {
      "cell_type": "code",
      "source": [
        "knn_tuned = KNeighborsRegressor(n_neighbors=knn_cv_model.best_params_[\"n_neighbors\"]).fit(X_train, y_train)"
      ],
      "metadata": {
        "id": "5NS-nP67nche"
      },
      "execution_count": 29,
      "outputs": []
    },
    {
      "cell_type": "code",
      "source": [
        "y_pred = knn_tuned.predict(X_test)"
      ],
      "metadata": {
        "id": "2t1hn6f_n2XL"
      },
      "execution_count": 30,
      "outputs": []
    },
    {
      "cell_type": "code",
      "source": [
        "rmse = np.sqrt(mean_squared_error(y_test, y_pred))\n",
        "rmse"
      ],
      "metadata": {
        "colab": {
          "base_uri": "https://localhost:8080/"
        },
        "id": "RNRDEHCmn8IM",
        "outputId": "cf1d2708-562c-40af-880e-f07e3b1ca4a0"
      },
      "execution_count": 32,
      "outputs": [
        {
          "output_type": "execute_result",
          "data": {
            "text/plain": [
              "413.7094731463598"
            ]
          },
          "metadata": {},
          "execution_count": 32
        }
      ]
    },
    {
      "cell_type": "code",
      "source": [],
      "metadata": {
        "id": "ze4qyLvQoQQO"
      },
      "execution_count": null,
      "outputs": []
    }
  ]
}