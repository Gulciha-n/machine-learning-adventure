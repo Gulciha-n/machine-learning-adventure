{
  "cells": [
    {
      "cell_type": "code",
      "execution_count": 1,
      "metadata": {
        "colab": {
          "base_uri": "https://localhost:8080/"
        },
        "id": "V923rmUKct1l",
        "outputId": "7349033c-6941-4f0a-a329-231e70ff12b6"
      },
      "outputs": [
        {
          "output_type": "stream",
          "name": "stdout",
          "text": [
            "Mounted at /content/drive\n"
          ]
        }
      ],
      "source": [
        "from google.colab import drive\n",
        "drive.mount('/content/drive')"
      ]
    },
    {
      "cell_type": "code",
      "execution_count": 2,
      "metadata": {
        "id": "-dkmWNgic2uf"
      },
      "outputs": [],
      "source": [
        "import pandas as pd\n",
        "import numpy as np\n",
        "import matplotlib.pyplot as plt\n",
        "from sklearn.model_selection import train_test_split, cross_val_score\n",
        "from sklearn.metrics import mean_squared_error, r2_score\n",
        "from sklearn.model_selection import GridSearchCV\n",
        "from sklearn.preprocessing import StandardScaler\n",
        "from sklearn.metrics import mean_squared_error, r2_score\n",
        "from sklearn.tree import DecisionTreeRegressor\n",
        "from sklearn.ensemble import RandomForestRegressor\n",
        "import warnings\n",
        "warnings.filterwarnings(\"ignore\")"
      ]
    },
    {
      "cell_type": "code",
      "execution_count": 3,
      "metadata": {
        "id": "dNNs6mnTc9hN"
      },
      "outputs": [],
      "source": [
        "df = pd.read_csv(\"/content/drive/MyDrive/Colab Notebooks/ml/Hitters.csv\")\n",
        "df.dropna(inplace=True)"
      ]
    },
    {
      "cell_type": "code",
      "execution_count": 4,
      "metadata": {
        "id": "fqfkvzKrc_ai"
      },
      "outputs": [],
      "source": [
        "dms = pd.get_dummies(df[['League', 'Division', 'NewLeague']])\n",
        "y = df[\"Salary\"]\n",
        "X_ = df.drop(['Salary', 'League', 'Division', 'NewLeague'], axis=1).astype('float64')\n",
        "X = pd.concat([X_, dms[['League_N', 'Division_W', 'NewLeague_N']]], axis=1)\n",
        "X_train, X_test, y_train, y_test = train_test_split(X, y, test_size=0.25, random_state=42)"
      ]
    },
    {
      "cell_type": "code",
      "execution_count": 5,
      "metadata": {
        "id": "JtEDp8zPdIlU"
      },
      "outputs": [],
      "source": [
        "rf_model = RandomForestRegressor(random_state=42).fit(X_train, y_train)"
      ]
    },
    {
      "cell_type": "code",
      "execution_count": 6,
      "metadata": {
        "colab": {
          "base_uri": "https://localhost:8080/"
        },
        "id": "VoUb0HG-daEO",
        "outputId": "9c543f2e-6037-48e7-ea34-2716625ffe17"
      },
      "outputs": [
        {
          "output_type": "execute_result",
          "data": {
            "text/plain": [
              "{'bootstrap': True,\n",
              " 'ccp_alpha': 0.0,\n",
              " 'criterion': 'squared_error',\n",
              " 'max_depth': None,\n",
              " 'max_features': 1.0,\n",
              " 'max_leaf_nodes': None,\n",
              " 'max_samples': None,\n",
              " 'min_impurity_decrease': 0.0,\n",
              " 'min_samples_leaf': 1,\n",
              " 'min_samples_split': 2,\n",
              " 'min_weight_fraction_leaf': 0.0,\n",
              " 'n_estimators': 100,\n",
              " 'n_jobs': None,\n",
              " 'oob_score': False,\n",
              " 'random_state': 42,\n",
              " 'verbose': 0,\n",
              " 'warm_start': False}"
            ]
          },
          "metadata": {},
          "execution_count": 6
        }
      ],
      "source": [
        "rf_model.get_params()\n",
        "# n_estimators : number of tree"
      ]
    },
    {
      "cell_type": "code",
      "execution_count": 7,
      "metadata": {
        "id": "_EL19GGpdovF"
      },
      "outputs": [],
      "source": [
        "y_pred = rf_model.predict(X_test)"
      ]
    },
    {
      "cell_type": "code",
      "execution_count": 8,
      "metadata": {
        "colab": {
          "base_uri": "https://localhost:8080/"
        },
        "id": "dpbVBSxPfXlD",
        "outputId": "ed069f38-1d79-4fa1-d324-2fd97e2de487"
      },
      "outputs": [
        {
          "output_type": "execute_result",
          "data": {
            "text/plain": [
              "344.8191624908484"
            ]
          },
          "metadata": {},
          "execution_count": 8
        }
      ],
      "source": [
        "rmse = np.sqrt(mean_squared_error(y_test, y_pred))\n",
        "rmse"
      ]
    },
    {
      "cell_type": "markdown",
      "metadata": {
        "id": "T2sxtL6ggWyz"
      },
      "source": [
        "**Model Tuning**"
      ]
    },
    {
      "cell_type": "code",
      "execution_count": 9,
      "metadata": {
        "id": "vsyIh5v4fZXx"
      },
      "outputs": [],
      "source": [
        "rf_params = {\"max_depth\": [5,8,10],\n",
        "             \"max_features\": [1,2,5,10],\n",
        "             \"n_estimators\": [200,500,1000,2000],\n",
        "             \"min_samples_split\": [2,5,10]}"
      ]
    },
    {
      "cell_type": "code",
      "execution_count": 10,
      "metadata": {
        "colab": {
          "base_uri": "https://localhost:8080/"
        },
        "id": "bh1HkXNmhkJH",
        "outputId": "bc884c7c-4d6d-4de0-994f-f5f2abc120e1"
      },
      "outputs": [
        {
          "output_type": "stream",
          "name": "stdout",
          "text": [
            "Fitting 10 folds for each of 144 candidates, totalling 1440 fits\n"
          ]
        }
      ],
      "source": [
        "rf_cv_model = GridSearchCV(rf_model, rf_params, cv=10, n_jobs=-1, verbose=2).fit(X_train, y_train)"
      ]
    },
    {
      "cell_type": "code",
      "execution_count": 11,
      "metadata": {
        "id": "tGnhYTX-hvMr",
        "colab": {
          "base_uri": "https://localhost:8080/"
        },
        "outputId": "44d7a65d-8cdb-4bec-8a11-0eabb1259991"
      },
      "outputs": [
        {
          "output_type": "execute_result",
          "data": {
            "text/plain": [
              "{'max_depth': 8,\n",
              " 'max_features': 2,\n",
              " 'min_samples_split': 2,\n",
              " 'n_estimators': 200}"
            ]
          },
          "metadata": {},
          "execution_count": 11
        }
      ],
      "source": [
        "rf_cv_model.best_params_"
      ]
    },
    {
      "cell_type": "markdown",
      "metadata": {
        "id": "jCcXPwl0ibxH"
      },
      "source": [
        "**Tuned Model**"
      ]
    },
    {
      "cell_type": "code",
      "execution_count": 12,
      "metadata": {
        "id": "54eT2-fRhxjE"
      },
      "outputs": [],
      "source": [
        "rf_tuned = RandomForestRegressor(max_depth=8,\n",
        "                                 max_features=2,\n",
        "                                 min_samples_split=2,\n",
        "                                 n_estimators=200).fit(X_train, y_train)\n"
      ]
    },
    {
      "cell_type": "code",
      "execution_count": 13,
      "metadata": {
        "id": "A_MDuwvvi7DR"
      },
      "outputs": [],
      "source": [
        "y_pred = rf_tuned.predict(X_test)"
      ]
    },
    {
      "cell_type": "code",
      "execution_count": 14,
      "metadata": {
        "id": "QccnfgUsjCJN",
        "colab": {
          "base_uri": "https://localhost:8080/"
        },
        "outputId": "3ba03628-c917-4cff-87f7-b53f0b915194"
      },
      "outputs": [
        {
          "output_type": "execute_result",
          "data": {
            "text/plain": [
              "343.6844509983289"
            ]
          },
          "metadata": {},
          "execution_count": 14
        }
      ],
      "source": [
        "rmse = np.sqrt(mean_squared_error(y_test, y_pred))\n",
        "rmse"
      ]
    },
    {
      "cell_type": "markdown",
      "metadata": {
        "id": "0Hsvy2k3jNnS"
      },
      "source": [
        "**Hyperparameter significance level**"
      ]
    },
    {
      "cell_type": "code",
      "execution_count": 15,
      "metadata": {
        "id": "v2sCyphAjOKH",
        "colab": {
          "base_uri": "https://localhost:8080/",
          "height": 472
        },
        "outputId": "07296294-f578-45d0-ca11-dd2f25d8c288"
      },
      "outputs": [
        {
          "output_type": "display_data",
          "data": {
            "text/plain": [
              "<Figure size 640x480 with 1 Axes>"
            ],
            "image/png": "[encoded data removed]"
          },
          "metadata": {}
        }
      ],
      "source": [
        "importance = pd.DataFrame({\"Importance\": rf_tuned.feature_importances_*100,\n",
        "                          \"index\": X_train.columns})\n",
        "\n",
        "importance.sort_values(by=\"Importance\",\n",
        "                       axis = 0, # by rows\n",
        "                       ascending=True).plot(x=\"index\", y=\"Importance\", kind=\"barh\", color = \"b\")\n",
        "\n",
        "plt.xlabel(\"Importance\")\n",
        "plt.ylabel(\"Features\")\n",
        "plt.title(\"Feature Importances\")\n",
        "plt.show()\n"
      ]
    },
    {
      "cell_type": "markdown",
      "source": [
        "**Visualization of the First Decision Tree from the Random Forest Model**"
      ],
      "metadata": {
        "id": "4dRr5HyiEwwi"
      }
    },
    {
      "cell_type": "code",
      "source": [
        "from ipywidgets import Image\n",
        "import pydotplus\n",
        "from sklearn.tree import export_graphviz\n",
        "from six import StringIO\n",
        "\n",
        "d_tree0 = rf_tuned.estimators_[0]\n",
        "dot_data = StringIO()\n",
        "export_graphviz(d_tree0, feature_names=X_train.columns,\n",
        "                out_file=dot_data, filled=True, rounded=True)\n",
        "\n",
        "graph = pydotplus.graph_from_dot_data(dot_data.getvalue())\n",
        "Image(value=graph.create_png())\n"
      ],
      "metadata": {
        "colab": {
          "base_uri": "https://localhost:8080/",
          "height": 182,
          "referenced_widgets": [
            "261fb7bd797d452baf26574db0b411db",
            "b9958d6eab224c7a9bcd54a268600bf7"
          ]
        },
        "id": "waxiLFKA1s2W",
        "outputId": "118244d8-2e3f-4521-a129-ec9148c26126"
      },
      "execution_count": 16,
      "outputs": [
        {
          "output_type": "display_data",
          "data": {
            "text/plain": [
              "Image(value=b'\\x89PNG\\r\\n\\x1a\\n\\x00\\x00\\x00\\rIHDR\\x00\\x00%{\\x00\\x00\\x04\\xa7\\x08\\x06\\x00\\x00\\x002\\xbf$\\xad\\x00\\…"
            ],
            "application/vnd.jupyter.widget-view+json": {
              "version_major": 2,
              "version_minor": 0,
              "model_id": "261fb7bd797d452baf26574db0b411db"
            }
          },
          "metadata": {}
        }
      ]
    },
    {
      "cell_type": "code",
      "source": [],
      "metadata": {
        "id": "pDpfVAXtEeYf"
      },
      "execution_count": 16,
      "outputs": []
    }
  ],
  "metadata": {
    "colab": {
      "provenance": []
    },
    "kernelspec": {
      "display_name": "Python 3",
      "name": "python3"
    },
    "language_info": {
      "name": "python"
    },
    "widgets": {
      "application/vnd.jupyter.widget-state+json": {
        "261fb7bd797d452baf26574db0b411db": {
          "model_module": "@jupyter-widgets/controls",
          "model_name": "ImageModel",
          "model_module_version": "1.5.0",
          "state": {
            "_dom_classes": [],
            "_model_module": "@jupyter-widgets/controls",
            "_model_module_version": "1.5.0",
            "_model_name": "ImageModel",
            "_view_count": null,
            "_view_module": "@jupyter-widgets/controls",
            "_view_module_version": "1.5.0",
            "_view_name": "ImageView",
            "format": "png",
            "height": "",
            "layout": "IPY_MODEL_b9958d6eab224c7a9bcd54a268600bf7",
            "width": ""
          }
        },
        "b9958d6eab224c7a9bcd54a268600bf7": {
          "model_module": "@jupyter-widgets/base",
          "model_name": "LayoutModel",
          "model_module_version": "1.2.0",
          "state": {
            "_model_module": "@jupyter-widgets/base",
            "_model_module_version": "1.2.0",
            "_model_name": "LayoutModel",
            "_view_count": null,
            "_view_module": "@jupyter-widgets/base",
            "_view_module_version": "1.2.0",
            "_view_name": "LayoutView",
            "align_content": null,
            "align_items": null,
            "align_self": null,
            "border": null,
            "bottom": null,
            "display": null,
            "flex": null,
            "flex_flow": null,
            "grid_area": null,
            "grid_auto_columns": null,
            "grid_auto_flow": null,
            "grid_auto_rows": null,
            "grid_column": null,
            "grid_gap": null,
            "grid_row": null,
            "grid_template_areas": null,
            "grid_template_columns": null,
            "grid_template_rows": null,
            "height": null,
            "justify_content": null,
            "justify_items": null,
            "left": null,
            "margin": null,
            "max_height": null,
            "max_width": null,
            "min_height": null,
            "min_width": null,
            "object_fit": null,
            "object_position": null,
            "order": null,
            "overflow": null,
            "overflow_x": null,
            "overflow_y": null,
            "padding": null,
            "right": null,
            "top": null,
            "visibility": null,
            "width": null
          }
        }
      }
    }
  },
  "nbformat": 4,
  "nbformat_minor": 0
}